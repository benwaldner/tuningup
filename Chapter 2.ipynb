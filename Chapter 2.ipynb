{
 "cells": [
  {
   "cell_type": "markdown",
   "metadata": {},
   "source": [
    "# Chapter 2: A/B testing: Evaluating a modification of your system "
   ]
  },
  {
   "cell_type": "code",
   "execution_count": null,
   "metadata": {},
   "outputs": [],
   "source": [
    "import numpy as np\n",
    "import scipy\n",
    "import scipy.stats\n",
    "import matplotlib as mpl\n",
    "import matplotlib.pyplot as plt\n",
    "import tuningup"
   ]
  },
  {
   "cell_type": "code",
   "execution_count": null,
   "metadata": {},
   "outputs": [],
   "source": [
    "mpl.rcParams['figure.dpi']= 300\n",
    "tu = tuningup.TuningUp(chapter=2)"
   ]
  },
  {
   "cell_type": "markdown",
   "metadata": {},
   "source": [
    "## 2.1\tRun an ad hoc experiment"
   ]
  },
  {
   "cell_type": "markdown",
   "metadata": {},
   "source": [
    "### 2.1.1\tSimulate the trading system"
   ]
  },
  {
   "cell_type": "code",
   "execution_count": null,
   "metadata": {},
   "outputs": [],
   "source": [
    "def trading_system(exchange):\n",
    "    if exchange == \"ASDAQ\":\n",
    "        execution_cost = 12\n",
    "    elif exchange == \"BYSE\":\n",
    "        execution_cost = 10\n",
    "    execution_cost += np.random.normal()\n",
    "    return execution_cost"
   ]
  },
  {
   "cell_type": "code",
   "execution_count": null,
   "metadata": {},
   "outputs": [],
   "source": [
    "np.random.seed(17)\n",
    "trading_system(\"ASDAQ\")"
   ]
  },
  {
   "cell_type": "markdown",
   "metadata": {},
   "source": [
    "### 2.1.2\tCompare execution costs"
   ]
  },
  {
   "cell_type": "code",
   "execution_count": null,
   "metadata": {},
   "outputs": [],
   "source": [
    "np.random.seed(17)\n",
    "print (trading_system(\"ASDAQ\"))\n",
    "print (trading_system(\"BYSE\"))"
   ]
  },
  {
   "cell_type": "code",
   "execution_count": null,
   "metadata": {},
   "outputs": [],
   "source": [
    "np.random.seed(18)\n",
    "print (trading_system(\"ASDAQ\"))\n",
    "print (trading_system(\"BYSE\"))"
   ]
  },
  {
   "cell_type": "markdown",
   "metadata": {},
   "source": [
    "#### Variation"
   ]
  },
  {
   "cell_type": "code",
   "execution_count": null,
   "metadata": {},
   "outputs": [],
   "source": [
    "np.random.seed(17)\n",
    "a = np.array([trading_system(\"ASDAQ\") for _ in range(1000)])\n",
    "b = np.array([trading_system(\"BYSE\") for _ in range(1000)])\n",
    "plt.hist(a, 25, color=tu.clr1);\n",
    "plt.hist(b, 25, color=tu.clr2);\n",
    "plt.legend(['ASDAQ', 'BYSE'])\n",
    "plt.xlabel('execution cost (mips)')\n",
    "tu.save_fig(2)"
   ]
  },
  {
   "cell_type": "code",
   "execution_count": null,
   "metadata": {},
   "outputs": [],
   "source": [
    "i = np.where(b < a)[0]\n",
    "len(i)/len(b)"
   ]
  },
  {
   "cell_type": "code",
   "execution_count": null,
   "metadata": {},
   "outputs": [],
   "source": [
    "np.random.seed(17)\n",
    "print(np.array([trading_system(\"ASDAQ\")\n",
    "        for _ in range(100)]).mean())\n",
    "print(np.array([trading_system(\"BYSE\")\n",
    "        for _ in range(100)]).mean())"
   ]
  },
  {
   "cell_type": "code",
   "execution_count": null,
   "metadata": {},
   "outputs": [],
   "source": [
    "print(np.array([trading_system(\"ASDAQ\")\n",
    "        for _ in range(100)]).mean())\n",
    "print(np.array([trading_system(\"BYSE\")\n",
    "        for _ in range(100)]).mean())"
   ]
  },
  {
   "cell_type": "markdown",
   "metadata": {},
   "source": [
    "#### Bias"
   ]
  },
  {
   "cell_type": "code",
   "execution_count": null,
   "metadata": {},
   "outputs": [],
   "source": [
    "def trading_system_tod(exchange, time_of_day):\n",
    "    if time_of_day == \"morning\":\n",
    "        bias = 0.0\n",
    "    elif time_of_day == \"afternoon\":\n",
    "        bias = 2.5\n",
    "    return bias + trading_system(exchange)"
   ]
  },
  {
   "cell_type": "code",
   "execution_count": null,
   "metadata": {},
   "outputs": [],
   "source": [
    "np.random.seed(17)\n",
    "print(np.array([trading_system_tod(\"ASDAQ\", \"morning\")\n",
    "        for _ in range(100)]).mean())\n",
    "print(np.array([trading_system_tod(\"ASDAQ\", \"afternoon\")\n",
    "        for _ in range(100)]).mean())"
   ]
  },
  {
   "cell_type": "code",
   "execution_count": null,
   "metadata": {},
   "outputs": [],
   "source": [
    "np.random.seed(17)\n",
    "print(np.array([trading_system_tod(\"ASDAQ\", \"morning\")\n",
    "        for _ in range(100)]).mean())\n",
    "print(np.array([trading_system_tod(\"BYSE\", \"afternoon\")\n",
    "        for _ in range(100)]).mean())"
   ]
  },
  {
   "cell_type": "code",
   "execution_count": null,
   "metadata": {},
   "outputs": [],
   "source": [
    "print(np.array([trading_system_tod(\"ASDAQ\", \"morning\")\n",
    "        for _ in range(1000)]).mean())\n",
    "print(np.array([trading_system_tod(\"BYSE\", \"afternoon\")\n",
    "        for _ in range(1000)]).mean())"
   ]
  },
  {
   "cell_type": "code",
   "execution_count": null,
   "metadata": {},
   "outputs": [],
   "source": [
    "def randomized_measurement():\n",
    "    asdaq = []\n",
    "    byse = []\n",
    "    for tod in [\"morning\", \"afternoon\"]:\n",
    "        for _ in range(100):\n",
    "            if np.random.randint(2)==0:\n",
    "                asdaq.append(trading_system_tod(\"ASDAQ\", tod))\n",
    "            else:\n",
    "                byse.append(trading_system_tod(\"BYSE\", tod))\n",
    "    return np.array(asdaq).mean(), np.array(byse).mean()"
   ]
  },
  {
   "cell_type": "code",
   "execution_count": null,
   "metadata": {},
   "outputs": [],
   "source": [
    "np.random.seed(17)\n",
    "randomized_measurement()"
   ]
  },
  {
   "cell_type": "markdown",
   "metadata": {},
   "source": [
    "## 2.1.3\tMitigate variation with replication"
   ]
  },
  {
   "cell_type": "code",
   "execution_count": null,
   "metadata": {},
   "outputs": [],
   "source": [
    "np.random.seed(17)\n",
    "c = np.array([trading_system(\"ASDAQ\") for _ in range(3)])\n",
    "print(c)"
   ]
  },
  {
   "cell_type": "code",
   "execution_count": null,
   "metadata": {},
   "outputs": [],
   "source": [
    "c.mean()"
   ]
  },
  {
   "cell_type": "code",
   "execution_count": null,
   "metadata": {},
   "outputs": [],
   "source": [
    "print (c-12)"
   ]
  },
  {
   "cell_type": "code",
   "execution_count": null,
   "metadata": {},
   "outputs": [],
   "source": [
    "c.mean()-12"
   ]
  },
  {
   "cell_type": "code",
   "execution_count": null,
   "metadata": {},
   "outputs": [],
   "source": [
    "np.sqrt(((c-12)**2).mean())"
   ]
  },
  {
   "cell_type": "code",
   "execution_count": null,
   "metadata": {},
   "outputs": [],
   "source": [
    "np.sqrt(((c-c.mean())**2).mean())"
   ]
  },
  {
   "cell_type": "code",
   "execution_count": null,
   "metadata": {},
   "outputs": [],
   "source": [
    "c.std()"
   ]
  },
  {
   "cell_type": "code",
   "execution_count": null,
   "metadata": {},
   "outputs": [],
   "source": [
    "def aggregate_measurement(exchange, num_individual_measurements):\n",
    "    individual_measurements = np.array([\n",
    "        trading_system(exchange)\n",
    "        for _ in range(num_individual_measurements)\n",
    "    ])\n",
    "    return individual_measurements.mean()"
   ]
  },
  {
   "cell_type": "code",
   "execution_count": null,
   "metadata": {},
   "outputs": [],
   "source": [
    "plt.hist(np.array([trading_system(\"ASDAQ\") for _ in range(1000)]), color=tu.clr1)\n",
    "plt.hist(np.array([aggregate_measurement(\"ASDAQ\", 3) for _ in range(1000)]), color=tu.clr2);\n",
    "plt.xlabel('execution cost (mps)')\n",
    "print (plt.axis())\n",
    "plt.legend(['individual', 'aggregate of 3'])\n",
    "tu.save_fig(3)"
   ]
  },
  {
   "cell_type": "code",
   "execution_count": null,
   "metadata": {},
   "outputs": [],
   "source": [
    "plt.hist(np.array([trading_system(\"ASDAQ\") for _ in range(1000)]), color=tu.clr1)\n",
    "plt.hist(np.array([aggregate_measurement(\"ASDAQ\", 3) for _ in range(1000)]), color=tu.clr2);\n",
    "plt.hist(np.array([aggregate_measurement(\"ASDAQ\", 30) for _ in range(1000)]), color=tu.clr3);\n",
    "plt.hist(np.array([aggregate_measurement(\"ASDAQ\", 300) for _ in range(1000)]), color=tu.clr4);\n",
    "plt.xlabel('execution cost (mps)')\n",
    "plt.legend(['individual', 'aggregate of 3', 'aggregate of 30', 'aggregate of 300'])\n",
    "tu.save_fig(4)"
   ]
  },
  {
   "cell_type": "code",
   "execution_count": null,
   "metadata": {},
   "outputs": [],
   "source": [
    "np.random.seed(17)\n",
    "print (aggregate_measurement(\"ASDAQ\", 300))\n",
    "print (aggregate_measurement(\"BYSE\", 300))"
   ]
  },
  {
   "cell_type": "code",
   "execution_count": null,
   "metadata": {},
   "outputs": [],
   "source": [
    "print (aggregate_measurement(\"ASDAQ\", 300))\n",
    "print (aggregate_measurement(\"BYSE\", 300))"
   ]
  },
  {
   "cell_type": "code",
   "execution_count": null,
   "metadata": {},
   "outputs": [],
   "source": [
    "plt.hist(np.array([aggregate_measurement(\"ASDAQ\", 300) for _ in range(1000)]), color=tu.clr1);\n",
    "plt.hist(np.array([aggregate_measurement(\"BYSE\", 300) for _ in range(1000)]), color=tu.clr2);\n",
    "\n",
    "# (6.6141395990492065, 13.526618148811357, 0.0, 270.9)\n",
    "c = plt.axis()\n",
    "plt.axis([6.614, 13.52, c[2], c[3]])\n",
    "\n",
    "plt.xlabel('execution cost (mps)')\n",
    "\n",
    "plt.legend(['ASDAQ', 'BYSE'])\n",
    "tu.save_fig(5)"
   ]
  },
  {
   "cell_type": "code",
   "execution_count": null,
   "metadata": {},
   "outputs": [],
   "source": [
    "np.random.seed(17)\n",
    "a3 = np.array([aggregate_measurement(\"ASDAQ\", 3)\n",
    "               for _ in range(1000)])\n",
    "a30 = np.array([aggregate_measurement(\"ASDAQ\", 30)\n",
    "                for _ in range(1000)])\n",
    "a300 = np.array([aggregate_measurement(\"ASDAQ\", 300)\n",
    "                 for _ in range(1000)])\n",
    "\n",
    "print (a3.std(), a30.std(), a300.std())"
   ]
  },
  {
   "cell_type": "code",
   "execution_count": null,
   "metadata": {},
   "outputs": [],
   "source": [
    "def aggregate_measurement_with_se(exchange, num_individual_measurements):\n",
    "    individual_measurements = np.array([\n",
    "        trading_system(exchange)\n",
    "        for _ in range(num_individual_measurements)\n",
    "    ])\n",
    "    aggregate_measurement = individual_measurements.mean()\n",
    "    se = individual_measurements.std() / np.sqrt(\n",
    "        num_individual_measurements)\n",
    "    return aggregate_measurement, se"
   ]
  },
  {
   "cell_type": "code",
   "execution_count": null,
   "metadata": {},
   "outputs": [],
   "source": [
    "np.random.seed(17)\n",
    "print (aggregate_measurement_with_se(\"ASDAQ\", 300))\n",
    "print (aggregate_measurement_with_se(\"BYSE\", 300))"
   ]
  },
  {
   "cell_type": "code",
   "execution_count": null,
   "metadata": {},
   "outputs": [],
   "source": [
    "10.05 + .057"
   ]
  },
  {
   "cell_type": "code",
   "execution_count": null,
   "metadata": {},
   "outputs": [],
   "source": [
    "12.00 - .060"
   ]
  },
  {
   "cell_type": "markdown",
   "metadata": {},
   "source": [
    "# 2.2\tRun an A/B test"
   ]
  },
  {
   "cell_type": "code",
   "execution_count": null,
   "metadata": {},
   "outputs": [],
   "source": [
    "np.random.seed(17)\n",
    "plt.hist(np.array([aggregate_measurement_with_se(\"ASDAQ\", 10)[0] for _ in range(1000)]), 20, color=tu.clr1)\n",
    "plt.xlabel('potential ASDAQ\\naggregate measurement\\nvalues (mips)')\n",
    "tu.vertical_line(102 + 10)\n",
    "plt.annotate(\"actual\\naggregate\\nmeasurement\", xy=[112.3, 90],\n",
    "             xytext=[120, 110],\n",
    "             arrowprops=tu.arrow_props\n",
    "            )\n",
    "tu.save_fig(7)"
   ]
  },
  {
   "cell_type": "code",
   "execution_count": null,
   "metadata": {},
   "outputs": [],
   "source": [
    "np.random.seed(17)\n",
    "num_individual_measurements = 10\n",
    "asdaq, se_asdaq = aggregate_measurement_with_se(\"ASDAQ\", num_individual_measurements)\n",
    "byse, se_byse = aggregate_measurement_with_se(\"BYSE\", num_individual_measurements)\n",
    "delta = byse - asdaq\n",
    "se_delta = np.sqrt(se_byse**2 + se_asdaq**2)"
   ]
  },
  {
   "cell_type": "code",
   "execution_count": null,
   "metadata": {},
   "outputs": [],
   "source": [
    "z = np.random.normal(size=(10000,))\n",
    "plt.hist(z, 30, color=tu.clr1)\n",
    "plt.xlabel('z')\n",
    "# tu.vertical_line(1.64)\n",
    "tu.vertical_line(-1.64)\n",
    "# plt.annotate(\"5%\", xy=[2.25, 112],\n",
    "#              xytext=[3, 600],\n",
    "#              arrowprops=tu.arrow_props\n",
    "#             )\n",
    "plt.annotate(\"5%\", xy=[-2.25, 112],\n",
    "             xytext=[-3, 600],\n",
    "             arrowprops=tu.arrow_props\n",
    "            )\n",
    "\n",
    "tu.save_fig(8)"
   ]
  },
  {
   "cell_type": "code",
   "execution_count": null,
   "metadata": {},
   "outputs": [],
   "source": [
    "def ab_test_design(sd1_delta, PS):\n",
    "    num_individual_measurements = (1.64 * sd1_delta / PS)**2\n",
    "    return np.ceil(num_individual_measurements)"
   ]
  },
  {
   "cell_type": "code",
   "execution_count": null,
   "metadata": {},
   "outputs": [],
   "source": [
    "np.random.seed(17)\n",
    "sd1_asdaq = np.array([trading_system(\"ASDAQ\") for _ in range(100)]).std()\n",
    "sd1_byse = sd1_asdaq\n",
    "sd1_delta = np.sqrt(sd1_asdaq**2 + sd1_byse**2)\n",
    "PS = 1.0\n",
    "ab_test_design(sd1_delta, PS)"
   ]
  },
  {
   "cell_type": "markdown",
   "metadata": {},
   "source": [
    "#### False negatives"
   ]
  },
  {
   "cell_type": "code",
   "execution_count": null,
   "metadata": {},
   "outputs": [],
   "source": [
    "fig, (ax1, ax2) = plt.subplots(1,2)\n",
    "\n",
    "z = np.random.normal(size=(10000,)) \n",
    "ax1.hist(z, 30, color=tu.clr1)\n",
    "ax1.set_xlabel('z')\n",
    "tu.vertical_line(-1.64, ax=ax1)\n",
    "\n",
    "ax1.annotate(\"5%\", xy=[-2.25, 112],\n",
    "             xytext=[-3.7, 600],\n",
    "             arrowprops=tu.arrow_props\n",
    "            )\n",
    "\n",
    "ax1.text(-3.5, 900,'(a)')\n",
    "tu.aspect_square(ax1)\n",
    "\n",
    "\n",
    "z = np.random.normal(size=(10000,)) \n",
    "ax2.hist(z, 30, color=tu.clr1, alpha=.5)\n",
    "ax2.set_xlabel('z')\n",
    "tu.vertical_line(-1.64, clr=tu.clr1, ax=ax2)\n",
    "ax2.annotate(\"5%\", xy=[-2.25, 112],\n",
    "             xytext=[-6, 600],\n",
    "             arrowprops=tu.arrow_props\n",
    "            )\n",
    "\n",
    "ax2.annotate(\"20%\", xy=[0, 112],\n",
    "             xytext=[3, 600],\n",
    "             arrowprops=tu.arrow_props\n",
    "            )\n",
    "ax2.hist(-(1.64 + .84) + z, 30, color=tu.clr2, alpha=.5)\n",
    "c = ax2.axis()\n",
    "ax2.axis([-8, 5.5, 0, c[3]])\n",
    "ax2.text(-7, 800,'(b)')\n",
    "tu.aspect_square(ax2)\n",
    "\n",
    "tu.save_fig(10)"
   ]
  },
  {
   "cell_type": "code",
   "execution_count": null,
   "metadata": {},
   "outputs": [],
   "source": [
    "1.64 + .84"
   ]
  },
  {
   "cell_type": "code",
   "execution_count": null,
   "metadata": {},
   "outputs": [],
   "source": [
    "def ab_test_design2(sd1_delta, PS):\n",
    "    num_individual_measurements = ( 2.48 * sd1_delta / PS)**2\n",
    "    return np.ceil(num_individual_measurements)"
   ]
  },
  {
   "cell_type": "code",
   "execution_count": null,
   "metadata": {},
   "outputs": [],
   "source": [
    "np.random.seed(17)\n",
    "sd1_asdaq = np.array([trading_system(\"ASDAQ\") for _ in range(100)]).std()\n",
    "sd1_byse = sd1_asdaq\n",
    "sd1_delta = np.sqrt(sd1_asdaq**2 + sd1_byse**2)\n",
    "PS = 1.0\n",
    "ab_test_design2(sd1_delta, PS)"
   ]
  },
  {
   "cell_type": "code",
   "execution_count": null,
   "metadata": {},
   "outputs": [],
   "source": [
    "def measure(min_individual_measurements):\n",
    "    asdaq = []\n",
    "    byse = []\n",
    "    while (len(asdaq) < min_individual_measurements\n",
    "           and len(byse) < min_individual_measurements):\n",
    "        if np.random.randint(2)==0:\n",
    "            asdaq.append(trading_system(\"ASDAQ\"))\n",
    "        else:\n",
    "            byse.append(trading_system(\"BYSE\"))\n",
    "    return np.array(asdaq), np.array(byse)"
   ]
  },
  {
   "cell_type": "code",
   "execution_count": null,
   "metadata": {},
   "outputs": [],
   "source": [
    "def analyze(asdaq, byse):\n",
    "    agg_asdaq = asdaq.mean()\n",
    "    se_asdaq = asdaq.std() / np.sqrt(len(asdaq))\n",
    "    agg_byse = byse.mean()\n",
    "    se_byse = byse.std() / np.sqrt(len(byse)) \n",
    "    \n",
    "    delta = agg_byse - agg_asdaq\n",
    "    se_delta = np.sqrt(se_asdaq**2 + se_byse**2)\n",
    "    \n",
    "    z = delta / se_delta\n",
    "    return z"
   ]
  },
  {
   "cell_type": "code",
   "execution_count": null,
   "metadata": {},
   "outputs": [],
   "source": [
    "np.random.seed(17)\n",
    "sd1_asdaq = np.array([trading_system(\"ASDAQ\") for _ in range(100)]).std()\n",
    "sd1_byse = sd1_asdaq\n",
    "sd1_delta = np.sqrt(sd1_asdaq**2 + sd1_byse**2)\n",
    "PS = 1.0\n",
    "ab_test_design2(sd1_delta, PS)"
   ]
  },
  {
   "cell_type": "code",
   "execution_count": null,
   "metadata": {},
   "outputs": [],
   "source": [
    "np.random.seed(17)\n",
    "asdaq, byse = measure(16)"
   ]
  },
  {
   "cell_type": "code",
   "execution_count": null,
   "metadata": {},
   "outputs": [],
   "source": [
    "byse.mean() - asdaq.mean()"
   ]
  },
  {
   "cell_type": "code",
   "execution_count": null,
   "metadata": {},
   "outputs": [],
   "source": [
    "analyze(asdaq, byse)"
   ]
  },
  {
   "cell_type": "code",
   "execution_count": null,
   "metadata": {},
   "outputs": [],
   "source": []
  },
  {
   "cell_type": "code",
   "execution_count": null,
   "metadata": {},
   "outputs": [],
   "source": []
  }
 ],
 "metadata": {
  "language_info": {
   "name": "python",
   "pygments_lexer": "ipython3"
  }
 },
 "nbformat": 4,
 "nbformat_minor": 2
}
