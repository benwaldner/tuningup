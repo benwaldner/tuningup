{
 "cells": [
  {
   "cell_type": "markdown",
   "metadata": {},
   "source": [
    "# Chapter 4\n",
    "# Response surface methodology: Tuning continuous parameters "
   ]
  },
  {
   "cell_type": "code",
   "execution_count": null,
   "metadata": {},
   "outputs": [],
   "source": [
    "import random\n",
    "import numpy as np\n",
    "import scipy\n",
    "import scipy.stats\n",
    "import matplotlib as mpl\n",
    "import matplotlib.pyplot as plt"
   ]
  },
  {
   "cell_type": "code",
   "execution_count": null,
   "metadata": {},
   "outputs": [],
   "source": [
    "mpl.rcParams['figure.dpi']= 300\n",
    "\n",
    "clr1 = \"#333333\"\n",
    "clr2 = \"#777777\"\n",
    "clr3 = \"#AAAAAA\"\n",
    "clr4 = \"#DDDDDD\"\n",
    "clrs = [clr1, clr2, clr3, clr4]\n",
    "arrow_props = {'width':1, 'color': clr1,\n",
    "                'headwidth': 5, 'headlength': 7}\n",
    "font_size_2d = 7\n",
    "chapter = 4\n",
    "\n",
    "fig_dir = f\"/Users/dsweet2/Desktop/Tuning Up/Chapter {chapter}/\"\n",
    "def save_fig_named(name):\n",
    "    plt.tight_layout()\n",
    "    for ext in [\"eps\", \"png\"]:\n",
    "        plt.savefig(f\"{fig_dir}/CH{chapter:02d}_{name}_sweet.{ext}\")\n",
    "        \n",
    "def save_fig(fig_num):\n",
    "    save_fig_named(f\"F{fig_num:02d}\")"
   ]
  },
  {
   "cell_type": "code",
   "execution_count": null,
   "metadata": {},
   "outputs": [],
   "source": [
    "def horizontal_line(y0):\n",
    "    c = plt.axis()\n",
    "    plt.autoscale(False)\n",
    "    plt.plot([c[0], c[1]], [y0, y0], '--', linewidth=1, color=clr3);"
   ]
  },
  {
   "cell_type": "markdown",
   "metadata": {},
   "source": [
    "## 4.1\tTune a single continuous parameter"
   ]
  },
  {
   "cell_type": "markdown",
   "metadata": {},
   "source": [
    "### 4.1.1\tDesign the experiment"
   ]
  },
  {
   "cell_type": "markdown",
   "metadata": {},
   "source": [
    "#### Simulate a proprietary trading strategy"
   ]
  },
  {
   "cell_type": "code",
   "execution_count": null,
   "metadata": {},
   "outputs": [],
   "source": [
    "def markout_profit(threshold):\n",
    "    cost = 1\n",
    "    pps = 1\n",
    "    signal = np.random.normal()\n",
    "    eps = 2*np.random.normal()\n",
    "    if (signal > threshold\n",
    "        or signal < -threshold):\n",
    "        profit = pps*np.abs(signal) - cost + eps\n",
    "    else:\n",
    "        profit = 0\n",
    "    return profit"
   ]
  },
  {
   "cell_type": "code",
   "execution_count": null,
   "metadata": {},
   "outputs": [],
   "source": [
    "np.random.seed(17)\n",
    "profit = np.array([markout_profit(threshold=1) for _ in range(10000)])\n",
    "i = np.where(profit!=0)[0]\n",
    "print (len(i), (len(profit)-len(i))/len(profit))\n",
    "print(profit.mean(), profit.std())\n",
    "print(profit[i].mean(), profit[i].std())\n",
    "plt.hist(profit[i], 25);\n",
    "save_fig(4)"
   ]
  },
  {
   "cell_type": "markdown",
   "metadata": {},
   "source": [
    "#### CHOOSE THE PARAMETER VALUES"
   ]
  },
  {
   "cell_type": "markdown",
   "metadata": {},
   "source": [
    "#### CONTINUOUS PARAMETERS IN RSM"
   ]
  },
  {
   "cell_type": "code",
   "execution_count": null,
   "metadata": {},
   "outputs": [],
   "source": [
    "fig, ((ax1, ax2), (ax3, ax4)) = plt.subplots(2, 2)\n",
    "ax1.set_xticks([])\n",
    "ax1.set_yticks([])\n",
    "ax2.set_xticks([])\n",
    "ax2.set_yticks([])\n",
    "ax3.set_xticks([])\n",
    "ax3.set_yticks([])\n",
    "ax4.set_xticks([])\n",
    "ax4.set_yticks([])\n",
    "\n",
    "x = [1,2]\n",
    "y = [1,2]\n",
    "ax1.plot(x,y, 'o-', color=clr1);\n",
    "ax1.axis([.5, 2.5, .5, 2.5])\n",
    "ax1.set_xticks([1,2])\n",
    "ax1.set_xticklabels('')\n",
    "ax1.text(.6,2.2,'(a)')\n",
    "\n",
    "x = [1,2]\n",
    "y = [2,1]\n",
    "ax2.plot(x,y, 'o-', color=clr1);\n",
    "ax2.axis([.5, 2.5, .5, 2.5])\n",
    "ax2.set_xticks([1,2])\n",
    "ax2.set_xticklabels('')\n",
    "ax2.text(.6,2.2,'(b)')\n",
    "\n",
    "x = np.arange(1,2.001,.01)\n",
    "x0 = 1.75\n",
    "y = 2 - 2*(x-x0)**2\n",
    "ax3.plot(x,y, '-',color=clr1);\n",
    "ax3.plot([x[0], x[50], x[-1]], [y[0], y[50], y[-1]], 'o', color=clr1)\n",
    "i=np.where(np.abs(x-x0)<.001)[0]\n",
    "ax3.plot([x[i]], [y[i]], 'o', color=clr1, fillstyle='none')\n",
    "ax3.axis([.5, 2.5, .5, 2.5])\n",
    "ax3.set_xticks([1,1.5,2])\n",
    "ax3.set_xticklabels('')\n",
    "ax3.text(.6,2.2,'(c)')\n",
    "\n",
    "x = np.arange(1,2.001,.01)\n",
    "x0 = 1.25\n",
    "y = 2 - 2*(x-x0)**2\n",
    "ax4.plot(x,y, '-',color=clr1);\n",
    "ax4.plot([x[0], x[50], x[-1]], [y[0], y[50], y[-1]], 'o', color=clr1)\n",
    "i=np.where(np.abs(x-x0)<.001)[0]\n",
    "ax4.plot([x[i]], [y[i]], 'o', color=clr1, fillstyle='none')\n",
    "ax4.axis([.5, 2.5, .5, 2.5])\n",
    "ax4.set_xticks([1,1.5,2])\n",
    "ax4.set_xticklabels('')\n",
    "ax4.text(.6,2.2,'(d)')\n",
    "\n",
    "fig.text(.5, 0, 'threshold', ha='center')\n",
    "fig.text(0, 0.5, 'profit', va='center', rotation='vertical')\n",
    "\n",
    "save_fig(6)\n",
    "plt.show()"
   ]
  },
  {
   "cell_type": "markdown",
   "metadata": {},
   "source": [
    "#### DETERMINE THE NUMBER OF INDIVIDUAL MEASUREMENTS"
   ]
  },
  {
   "cell_type": "code",
   "execution_count": null,
   "metadata": {},
   "outputs": [],
   "source": [
    "profit.mean()"
   ]
  },
  {
   "cell_type": "code",
   "execution_count": null,
   "metadata": {},
   "outputs": [],
   "source": [
    "SD1 = 1.2\n",
    "print (\"SD1 =\", SD1, profit.std())\n",
    "PS = .03\n",
    "print (\"PS = \", PS, .2 * profit.mean())\n",
    "N = (2.8 * SD1/PS)**2\n",
    "print (\"N =\",N)\n",
    "N = (3.08 * SD1/PS)**2\n",
    "print (\"N =\",N)"
   ]
  },
  {
   "cell_type": "markdown",
   "metadata": {},
   "source": [
    "### 4.1.2 Run and analyze the experiment"
   ]
  },
  {
   "cell_type": "code",
   "execution_count": null,
   "metadata": {},
   "outputs": [],
   "source": [
    "def run_experiment(num_individual_measurements, thresholds):\n",
    "    individual_measurements = {\n",
    "     threshold: [] for threshold in thresholds\n",
    "    }\n",
    "    done = set()\n",
    "    while True:\n",
    "        threshold = np.random.choice(thresholds)\n",
    "        profit = markout_profit(threshold)\n",
    "        individual_measurements[threshold].append(profit)\n",
    "        if (len(individual_measurements[threshold])\n",
    "            >= num_individual_measurements):\n",
    "            done.add(threshold)\n",
    "        if len(done)==len(thresholds):\n",
    "            break\n",
    "    \n",
    "    aggregate_measurements = []\n",
    "    standard_errors = []\n",
    "    for threshold in thresholds:\n",
    "        ims = np.array(individual_measurements[threshold])\n",
    "        aggregate_measurements.append( ims.mean() )\n",
    "        standard_errors.append( ims.std()/np.sqrt(len(ims)) )\n",
    "        \n",
    "    return aggregate_measurements, standard_errors"
   ]
  },
  {
   "cell_type": "code",
   "execution_count": null,
   "metadata": {},
   "outputs": [],
   "source": [
    "np.random.seed(17)\n",
    "thresholds = np.array([1, 1.5, 2])\n",
    "aggregate_measurements, standard_errors = run_experiment(15000, thresholds)"
   ]
  },
  {
   "cell_type": "code",
   "execution_count": null,
   "metadata": {},
   "outputs": [],
   "source": [
    "plt.errorbar(thresholds, aggregate_measurements,\n",
    "             yerr=standard_errors,\n",
    "             fmt='o', color=clr1, capsize=10);\n",
    "plt.xlabel('threshold')\n",
    "plt.ylabel('profit')\n",
    "\n",
    "save_fig(8)\n",
    "plt.show()"
   ]
  },
  {
   "cell_type": "markdown",
   "metadata": {},
   "source": [
    "#### ITERATE TO FIND THE OPTIMUM"
   ]
  },
  {
   "cell_type": "code",
   "execution_count": null,
   "metadata": {},
   "outputs": [],
   "source": [
    "np.random.seed(17)\n",
    "thresholds = np.array([.5, 1, 1.5])\n",
    "aggregate_measurements, standard_errors = run_experiment(15000, thresholds)\n",
    "print (aggregate_measurements, standard_errors)"
   ]
  },
  {
   "cell_type": "code",
   "execution_count": null,
   "metadata": {},
   "outputs": [],
   "source": [
    "plt.errorbar(thresholds, aggregate_measurements,\n",
    "             yerr=standard_errors,\n",
    "             fmt='o', color=clr1, capsize=10);\n",
    "plt.xlabel('threshold')\n",
    "plt.ylabel('markout_profit')\n",
    "\n",
    "save_fig(9)\n",
    "plt.show()"
   ]
  },
  {
   "cell_type": "markdown",
   "metadata": {},
   "source": [
    "**Sidebar: Linear regression and the normal equations**"
   ]
  },
  {
   "cell_type": "code",
   "execution_count": null,
   "metadata": {},
   "outputs": [],
   "source": [
    "# univariate\n",
    "x = np.array([1, 2, 3, 4])\n",
    "y = np.array([.5, 1.1, 1.4, 2.1])\n",
    "beta = (x*y).sum() / (x**2).sum()\n",
    "print (beta)"
   ]
  },
  {
   "cell_type": "code",
   "execution_count": null,
   "metadata": {},
   "outputs": [],
   "source": [
    "# multivariate\n",
    "x = np.array([1, 2, 3, 4])\n",
    "X = np.array([\n",
    "  [1, x[0], x[0]**2],\n",
    "  [1, x[1], x[1]**2],\n",
    "  [1, x[2], x[2]**2],\n",
    "  [1, x[3], x[3]**2]\n",
    "])\n",
    "y = np.array([.5, 1.1, 1.4, 1])\n",
    "beta = np.linalg.inv(X.T @ X) @ (X.T @ y)\n",
    "print (beta)\n",
    "# plt.plot(x,y ,'o--');"
   ]
  },
  {
   "cell_type": "markdown",
   "metadata": {},
   "source": [
    "**End Sidebar: Linear regression and the normal equations**"
   ]
  },
  {
   "cell_type": "code",
   "execution_count": null,
   "metadata": {},
   "outputs": [],
   "source": [
    "def linear_regression(thresholds, aggregate_measurements):\n",
    "    x = thresholds\n",
    "    y = aggregate_measurements\n",
    "    X = np.array([np.ones(len(y)), x, x**2]).T\n",
    "    beta = np.linalg.inv(X.T @ X) @ (X.T @ y)\n",
    "    return beta"
   ]
  },
  {
   "cell_type": "code",
   "execution_count": null,
   "metadata": {},
   "outputs": [],
   "source": [
    "beta = linear_regression(thresholds, aggregate_measurements)\n",
    "print(beta)"
   ]
  },
  {
   "cell_type": "code",
   "execution_count": null,
   "metadata": {},
   "outputs": [],
   "source": [
    "def interpolate(thresholds, beta):\n",
    "    xhat = np.arange(thresholds.min(), thresholds.max()+1e-6, .01)\n",
    "    XHat = np.array([np.ones(len(xhat)), xhat, xhat**2]).T\n",
    "    yhat = XHat @ beta\n",
    "    return xhat, yhat"
   ]
  },
  {
   "cell_type": "code",
   "execution_count": null,
   "metadata": {},
   "outputs": [],
   "source": [
    "plt.errorbar(thresholds, aggregate_measurements,\n",
    "             yerr=standard_errors,\n",
    "             fmt='o', color=clr1, capsize=10);\n",
    "xhat, yhat = interpolate(thresholds, beta)\n",
    "plt.plot(xhat, yhat, '--', color=clr2)\n",
    "plt.xlabel('threshold')\n",
    "plt.ylabel('profit')\n",
    "\n",
    "save_fig(10)\n",
    "plt.show()"
   ]
  },
  {
   "cell_type": "code",
   "execution_count": null,
   "metadata": {},
   "outputs": [],
   "source": [
    "beta = linear_regression(thresholds, aggregate_measurements)\n",
    "print(beta)"
   ]
  },
  {
   "cell_type": "code",
   "execution_count": null,
   "metadata": {},
   "outputs": [],
   "source": [
    "def optimize(thresholds, beta):\n",
    "    xhat, yhat = interpolate(thresholds, beta)\n",
    "    i = np.where(yhat==yhat.max())[0][0]\n",
    "    return xhat[i], yhat[i]"
   ]
  },
  {
   "cell_type": "code",
   "execution_count": null,
   "metadata": {},
   "outputs": [],
   "source": [
    "threshold_opt, estimated_max_profit = optimize(thresholds, beta)\n",
    "print (threshold_opt, estimated_max_profit)"
   ]
  },
  {
   "cell_type": "code",
   "execution_count": null,
   "metadata": {},
   "outputs": [],
   "source": [
    "plt.errorbar(thresholds, aggregate_measurements,\n",
    "             yerr=standard_errors,\n",
    "             fmt='o', color=clr1, capsize=10);\n",
    "xhat, yhat = interpolate(thresholds, beta)\n",
    "plt.plot(xhat, yhat, '--', color=clr2)\n",
    "plt.plot(threshold_opt, estimated_max_profit, 'o', fillstyle='none', color=clr2)\n",
    "# plt.errorbar(threshold_opt, estimated_max_profit, yerr=se_yhat, fmt='o', fillstyle='none', color=clr2)\n",
    "plt.xlabel('threshold')\n",
    "plt.ylabel('profit')\n",
    "\n",
    "save_fig(11)\n",
    "plt.show()"
   ]
  },
  {
   "cell_type": "markdown",
   "metadata": {},
   "source": [
    "### 4.1.3\tValidate the optimal parameter value"
   ]
  },
  {
   "cell_type": "markdown",
   "metadata": {},
   "source": [
    "#### A SIMPLE VALIDATION MEASUREMENT"
   ]
  },
  {
   "cell_type": "code",
   "execution_count": null,
   "metadata": {},
   "outputs": [],
   "source": [
    "estimated_max_profit, "
   ]
  },
  {
   "cell_type": "code",
   "execution_count": null,
   "metadata": {},
   "outputs": [],
   "source": [
    "np.random.seed(17)\n",
    "aggregate_measurement, standard_error = run_experiment(15000, [threshold_opt])\n",
    "print (aggregate_measurement[0]-2*standard_error[0], aggregate_measurement[0]+2*standard_error[0])"
   ]
  },
  {
   "cell_type": "markdown",
   "metadata": {},
   "source": [
    "#### A MORE ROBUST VALIDATION MEASUREMENT"
   ]
  },
  {
   "cell_type": "markdown",
   "metadata": {},
   "source": [
    "## 4.2\tTune two or more continuous parameters"
   ]
  },
  {
   "cell_type": "code",
   "execution_count": null,
   "metadata": {},
   "outputs": [],
   "source": [
    "def markout_profit_2D(threshold, order_size):\n",
    "    cost = 1\n",
    "    pps = 1\n",
    "    asc = .001*np.exp(2*order_size)\n",
    "    signal = np.random.normal()\n",
    "    eps = 2*np.random.normal()\n",
    "    if (signal > threshold\n",
    "        or signal < -threshold):\n",
    "        profit = order_size*(pps*np.abs(signal) - cost + eps) - asc\n",
    "    else:\n",
    "        profit = 0\n",
    "    return profit"
   ]
  },
  {
   "cell_type": "markdown",
   "metadata": {},
   "source": [
    "**Sidebar: One factor at a time (OFAT)**"
   ]
  },
  {
   "cell_type": "code",
   "execution_count": null,
   "metadata": {},
   "outputs": [],
   "source": [
    "\n",
    "def _interp_ofat(beta):\n",
    "    x0_values = np.arange(-1, 1+1e-6, .01)\n",
    "    x1_values = np.arange(-1, 1+1e-6, .01)\n",
    "    x0hat_2d, x1hat_2d = np.meshgrid(x0_values, x1_values)\n",
    "    x0hat = x0hat_2d.flatten()\n",
    "    x1hat = x1hat_2d.flatten()\n",
    "    XHat = np.array([np.ones(len(x0hat)), x0hat, x1hat, x0hat**2, x1hat**2, x0hat*x1hat]).T\n",
    "    yhat = XHat @ np.array(beta)\n",
    "    yhat_2d = np.reshape(yhat, (len(x1_values), len(x0_values)))\n",
    "    return x0hat_2d, x1hat_2d, yhat_2d\n",
    "\n",
    "def y_ofat(beta, x0, x1):\n",
    "    x0hat, x1hat, yhat = _interp_ofat(beta)\n",
    "    dx0 = np.abs(x0hat - x0)\n",
    "    dx1 = np.abs(x1hat - x1)\n",
    "    i = np.where( (dx0==dx0.min()) & (dx1==dx1.min()) )\n",
    "    return yhat[i]\n",
    "\n",
    "def _plot_1d_x0(ax, beta, x1hat0):\n",
    "    x0hat, x1hat, yhat = _interp_ofat(beta)\n",
    "    dx1 = np.abs(x1hat - x1hat0)\n",
    "    i = np.where(dx1 == dx1.min())\n",
    "    x0hat = x0hat[i[1]][0,:]\n",
    "    x1hat = x1hat[i[1]][0,:]\n",
    "    yhat = yhat[i[1]][0,:]\n",
    "    ax.plot(\n",
    "        x0hat,\n",
    "        yhat,\n",
    "        color=clr1\n",
    "    )\n",
    "    \n",
    "    i = np.where(yhat == yhat.max())[0]\n",
    "    return x0hat[i][0], yhat[i][0]\n",
    "    \n",
    "def _plot_1d_x1(ax, beta, x0hat0):\n",
    "    x0hat, x1hat, yhat = _interp_ofat(beta)\n",
    "    dx0 = np.abs(x0hat - x0hat0)\n",
    "    i = np.where(dx0 == dx0.min())\n",
    "    x0hat = x0hat[i[0]][:,0]\n",
    "    x1hat = x1hat[i[0]][:,0]\n",
    "    yhat = yhat[i[0]][:,0]    \n",
    "    ax.plot(\n",
    "        x1hat,\n",
    "        yhat,\n",
    "        color=clr1\n",
    "    )\n",
    "    i = np.where(yhat == yhat.max())[0]\n",
    "    return x1hat[i][0], yhat[i][0]\n",
    "\n",
    "def vline(ax, x0):\n",
    "    c = ax.axis()\n",
    "    ax.autoscale(False)\n",
    "    ax.plot([x0, x0], [c[2], c[3]], '--', linewidth=1, color=clr3);    \n",
    "    \n",
    "beta = [10, .1, 1, -2.5, -5, 1]\n",
    "\n",
    "print(y_ofat(beta, x0=-.4, x1=.8))"
   ]
  },
  {
   "cell_type": "code",
   "execution_count": null,
   "metadata": {},
   "outputs": [],
   "source": [
    "fig, ((ax1, ax2), (ax3, ax4)) = plt.subplots(2, 2)\n",
    "ax1.set_xticks([])\n",
    "ax1.set_yticks([])\n",
    "ax2.set_xticks([])\n",
    "ax2.set_yticks([])\n",
    "ax3.set_xticks([])\n",
    "ax3.set_yticks([])\n",
    "ax4.set_xticks([])\n",
    "ax4.set_yticks([])\n",
    "\n",
    "x1hat0_a = .8\n",
    "ax1.plot([-1, 1], [x1hat0_a, x1hat0_a], '--', color=clr1)\n",
    "ax1.axis([-1, 1, -1, 1])\n",
    "ax1.set_yticks([x1hat0_a])\n",
    "ax1.set_xticklabels('')\n",
    "ax1.text(-.9, -.9, '(a)')\n",
    "ax1.set_xlabel('x0')\n",
    "ax1.set_ylabel('x1')\n",
    "\n",
    "x0hat_opt_1d, yhat_opt_a = _plot_1d_x0(ax2, beta, x1hat0=x1hat0_a)\n",
    "vline(ax2, x0hat_opt_1d)\n",
    "ax1.plot([x0hat_opt_1d], [x1hat0_a], 'x', color=clr1, fillstyle='none')\n",
    "ax2.set_yticks([yhat_opt_a])\n",
    "ax2.set_yticklabels([f\"$y^*={yhat_opt_a:.2f}$\"], rotation=90)\n",
    "ax2.set_xticks([x0hat_opt_1d])\n",
    "ax2.set_xticklabels([f\"$x0^*={x0hat_opt_1d:.2f}$\"])\n",
    "ax2.text(-1, 3.7, '(b)')\n",
    "\n",
    "ax3.plot([-1, 1], [x1hat0_a, x1hat0_a], '--', color=clr1)\n",
    "ax3.plot([x0hat_opt_1d, x0hat_opt_1d], [-1,1], '--', color=clr1)\n",
    "ax3.axis([-1, 1, -1, 1])\n",
    "ax3.set_yticks([x1hat0_a])\n",
    "ax3.set_xticks([x0hat_opt_1d])\n",
    "# ax3.set_xticklabels('')\n",
    "ax3.set_xlabel('x0')\n",
    "ax3.set_ylabel('x1')\n",
    "ax3.text(-.9, -.9, '(c)')\n",
    "\n",
    "x1hat_opt_1d, yhat_opt_1d = _plot_1d_x1(ax4, beta, x0hat0=x0hat_opt_1d)\n",
    "vline(ax4, x1hat_opt_1d)\n",
    "ax3.plot([x0hat_opt_1d], [x1hat_opt_1d], 'x', color=clr1, fillstyle='none')\n",
    "ax4.set_xticklabels('')\n",
    "ax4.set_yticks([yhat_opt_1d])\n",
    "ax4.set_yticklabels([f\"$y^*={yhat_opt_1d:.2f}$\"], rotation=90)\n",
    "ax4.set_xticks([x1hat_opt_1d])\n",
    "ax4.set_xticklabels([f\"$x1^*={x1hat_opt_1d:.2f}$\"])\n",
    "ax4.text(-1, 6.7, '(d)')\n",
    "\n",
    "save_fig_named(\"ofat_1\")\n",
    "\n",
    "plt.show()"
   ]
  },
  {
   "cell_type": "code",
   "execution_count": null,
   "metadata": {},
   "outputs": [],
   "source": [
    "def plot_ofat(beta):\n",
    "    x0hat, x1hat, yhat = _interp_ofat(beta)\n",
    "    plt.contourf(x0hat, x1hat, yhat, alpha=.5, cmap=\"Greys\")\n",
    "    \n",
    "    i = np.where(yhat == yhat.max())\n",
    "    return x0hat[i][0], x1hat[i][0], yhat[i][0]\n",
    "\n",
    "x0hat_opt, x1hat_opt, yhat_opt = plot_ofat(beta)\n",
    "vline(plt, x0hat_opt)\n",
    "horizontal_line(x1hat_opt)\n",
    "plt.plot(x0hat_opt, x1hat_opt, 'o', fillstyle='none', color=clr1)\n",
    "plt.xticks([x0hat_opt], labels=[f\"$x0^* = {x0hat_opt:.2f}$\"])\n",
    "plt.yticks([x1hat_opt], labels=[f\"$x1^* = {x1hat_opt:.2f}$\"], rotation=90, va='center')\n",
    "\n",
    "\n",
    "plt.plot([-1, 1], [x1hat0_a, x1hat0_a], '--', color=clr1)\n",
    "plt.plot([x0hat_opt_1d, x0hat_opt_1d], [-1,1], '--', color=clr1)\n",
    "plt.plot([x0hat_opt_1d], [x1hat_opt_1d], 'x', color=clr1)\n",
    "\n",
    "plt.text(x0hat_opt+.05, x1hat_opt+.07, \"$y^{**}=\"+f\"{yhat_opt:.1f}$\")\n",
    "plt.text(x0hat_opt_1d-.25, x1hat_opt_1d-.07, \"$y^{*}=\"+f\"{yhat_opt_1d:.1f}$\")\n",
    "\n",
    "save_fig_named(\"ofat_2\")\n",
    "\n",
    "plt.show();"
   ]
  },
  {
   "cell_type": "markdown",
   "metadata": {},
   "source": [
    "**End Sidebar: One factor at a time (OFAT)**"
   ]
  },
  {
   "cell_type": "markdown",
   "metadata": {},
   "source": [
    "## 4.2.1\tDesign the experiment"
   ]
  },
  {
   "cell_type": "code",
   "execution_count": null,
   "metadata": {},
   "outputs": [],
   "source": [
    "thresholds = [1, 1.5, 2]\n",
    "order_sizes = [1, 2, 3]\n",
    "axes = [.95, 2.05, .9, 3.1]\n",
    "\n",
    "fig, ((ax1, ax2, ax3)) = plt.subplots(1, 3)\n",
    "ax1.set_xticks([])\n",
    "ax1.set_yticks([])\n",
    "ax2.set_xticks([])\n",
    "ax2.set_yticks([])\n",
    "ax3.set_xticks([])\n",
    "ax3.set_yticks([])\n",
    "\n",
    "ax1.plot(thresholds, [2, 2, 2], 'o', color=clr1);\n",
    "ax1.axis(axes)\n",
    "ax1.set_aspect(.5)\n",
    "ax1.set_xticks(thresholds)\n",
    "ax1.text(1.5, .3, 'threshold', ha='center')\n",
    "ax1.text(1, 2.8, '(a)')\n",
    "\n",
    "ax2.plot([1.5, 1.5, 1.5], order_sizes, 'o', color=clr1);\n",
    "ax2.axis(axes)\n",
    "ax2.set_aspect(.5)\n",
    "ax2.set_yticks(order_sizes)\n",
    "ax2.set_xticks([-10])\n",
    "\n",
    "ax2.text(1.5, .3, 'threshold', ha='center')\n",
    "ax2.text(1, 2.8, '(b)')\n",
    "\n",
    "ax3.plot(thresholds, [2, 2, 2], 'o', color=clr1);\n",
    "ax3.plot([1.5, 1.5, 1.5], order_sizes, 'o', color=clr1);\n",
    "ax3.axis(axes)\n",
    "ax3.set_aspect(.5)\n",
    "ax3.set_xticks(thresholds)\n",
    "ax3.set_yticks(order_sizes)\n",
    "ax3.text(1.5, .3, 'threshold', ha='center')\n",
    "ax3.text(1, 2.8, '(c)')\n",
    "\n",
    "fig.text(0.0, 0.5, 'order_size', va='center', rotation='vertical')\n",
    "\n",
    "save_fig(14)\n",
    "plt.show()"
   ]
  },
  {
   "cell_type": "code",
   "execution_count": null,
   "metadata": {},
   "outputs": [],
   "source": [
    "def design_ccd(thresholds, order_sizes):\n",
    "    parameters = [\n",
    "        (threshold, order_size)\n",
    "        for threshold in thresholds\n",
    "        for order_size in order_sizes\n",
    "    ]\n",
    "    return parameters"
   ]
  },
  {
   "cell_type": "code",
   "execution_count": null,
   "metadata": {},
   "outputs": [],
   "source": [
    "parameters = design_ccd(thresholds=[1, 1.5, 2], order_sizes=[1, 2, 3])\n",
    "print (parameters)"
   ]
  },
  {
   "cell_type": "code",
   "execution_count": null,
   "metadata": {},
   "outputs": [],
   "source": [
    "pp = np.array(parameters)\n",
    "thresholds = pp[:,0]\n",
    "order_sizes = pp[:,1]\n",
    "plt.plot(thresholds, order_sizes, 'o', color=clr1)\n",
    "plt.xlabel('threshold')\n",
    "plt.ylabel('order size')\n",
    "save_fig(15)\n",
    "plt.show()"
   ]
  },
  {
   "cell_type": "markdown",
   "metadata": {},
   "source": [
    "### 4.2.2\tRun, analyze, and validate the experiment"
   ]
  },
  {
   "cell_type": "code",
   "execution_count": null,
   "metadata": {},
   "outputs": [],
   "source": [
    "np.random.seed(17)\n",
    "profit = np.array([markout_profit_2D(threshold=1, order_size=1) for _ in range(10000)])\n",
    "i = np.where(profit!=0)[0]\n",
    "print (len(i), (len(profit)-len(i))/len(profit))\n",
    "print(profit.mean(), profit.std())"
   ]
  },
  {
   "cell_type": "markdown",
   "metadata": {},
   "source": [
    "#### RUN THE EXPERIMENT"
   ]
  },
  {
   "cell_type": "code",
   "execution_count": null,
   "metadata": {},
   "outputs": [],
   "source": [
    "def run_experiment_2D(num_individual_measurements, parameters):\n",
    "    individual_measurements = {\n",
    "      parameter: [] for parameter in parameters\n",
    "    }\n",
    "    done = set()\n",
    "    while True:\n",
    "        parameter = parameters[np.random.choice(len(parameters))]\n",
    "        threshold, order_size = parameter\n",
    "        profit = markout_profit_2D(threshold, order_size)\n",
    "        individual_measurements[parameter].append(profit)\n",
    "        if (len(individual_measurements[parameter])\n",
    "            >= num_individual_measurements):\n",
    "            done.add(parameter)\n",
    "        if len(done) == len(individual_measurements):\n",
    "            break\n",
    "    \n",
    "    aggregate_measurements = []\n",
    "    standard_errors = []\n",
    "    for parameter in parameters:\n",
    "        ims = np.array(individual_measurements[parameter])\n",
    "        aggregate_measurements.append( ims.mean() )\n",
    "        standard_errors.append( ims.std()/np.sqrt(len(ims)) )\n",
    "        \n",
    "    return aggregate_measurements, standard_errors"
   ]
  },
  {
   "cell_type": "code",
   "execution_count": null,
   "metadata": {},
   "outputs": [],
   "source": [
    "np.random.seed(17)\n",
    "parameters = design_ccd(thresholds=[1, 1.5, 2], order_sizes=[1, 2, 3])\n",
    "aggregate_measurements, standard_errors = run_experiment_2D(15000, parameters)"
   ]
  },
  {
   "cell_type": "code",
   "execution_count": null,
   "metadata": {},
   "outputs": [],
   "source": [
    "def _plot_aggregate_measurements(parameters, aggregate_measurements, standard_errors):\n",
    "    n = np.arange(len(parameters))\n",
    "    plt.errorbar(n, aggregate_measurements,\n",
    "                 yerr=standard_errors,\n",
    "                 fmt='o', color=clr1, capsize=10);\n",
    "    plt.ylabel('markout profit', fontsize=font_size_2d)\n",
    "    plt.yticks(fontsize=font_size_2d)\n",
    "    plt.xticks(\n",
    "        ticks=list(range(len(parameters))),\n",
    "        labels=[f\"th={p[0]:.1f}\\nos={p[1]:.1f}\" for p in parameters],\n",
    "        fontsize=font_size_2d\n",
    "    )\n"
   ]
  },
  {
   "cell_type": "code",
   "execution_count": null,
   "metadata": {},
   "outputs": [],
   "source": [
    "_plot_aggregate_measurements(parameters, aggregate_measurements, standard_errors)\n",
    "save_fig(17)"
   ]
  },
  {
   "cell_type": "markdown",
   "metadata": {},
   "source": [
    "#### ANALYZE THE EXPERIMENT"
   ]
  },
  {
   "cell_type": "code",
   "execution_count": null,
   "metadata": {},
   "outputs": [],
   "source": [
    "def linear_regression_2D(parameters, aggregate_measurements):\n",
    "    parameters = np.array(parameters)\n",
    "    x0 = parameters[:,0]\n",
    "    x1 = parameters[:,1]\n",
    "    y = np.array(aggregate_measurements)\n",
    "    X = np.array([np.ones(len(y)), x0, x1, x0**2, x1**2, x0*x1]).T\n",
    "    beta = np.linalg.inv(X.T @ X) @ (X.T @ y)\n",
    "    return beta"
   ]
  },
  {
   "cell_type": "code",
   "execution_count": null,
   "metadata": {},
   "outputs": [],
   "source": [
    "beta = linear_regression_2D(parameters, aggregate_measurements)\n",
    "print (beta)"
   ]
  },
  {
   "cell_type": "code",
   "execution_count": null,
   "metadata": {},
   "outputs": [],
   "source": [
    "def interpolate_2D(parameters, beta):\n",
    "    parameters = np.array(parameters)\n",
    "    x0_values = np.arange(parameters[:,0].min(), parameters[:,0].max()+1e-6, .01)\n",
    "    x1_values = np.arange(parameters[:,1].min(), parameters[:,1].max()+1e-6, .01)\n",
    "    x0hat_2d, x1hat_2d = np.meshgrid(x0_values, x1_values)\n",
    "    x0hat = x0hat_2d.flatten()\n",
    "    x1hat = x1hat_2d.flatten()\n",
    "    XHat = np.array([np.ones(len(x0hat)), x0hat, x1hat, x0hat**2, x1hat**2, x0hat*x1hat]).T\n",
    "    yhat = XHat @ beta\n",
    "    yhat_2d = np.reshape(yhat, (len(x1_values), len(x0_values)))\n",
    "    return x0hat_2d, x1hat_2d, yhat_2d"
   ]
  },
  {
   "cell_type": "code",
   "execution_count": null,
   "metadata": {},
   "outputs": [],
   "source": [
    "def _plot_interpolation(parameters, aggregate_measurements, beta, parameter_opt=None):\n",
    "    parameters = np.array(parameters)\n",
    "    thresholds = parameters[:,0]\n",
    "    order_sizes = parameters[:,1]\n",
    "    x0hat, x1hat, yhat = interpolate_2D(parameters, beta)\n",
    "    fig = plt.figure()\n",
    "    plt.contourf(x0hat, x1hat, yhat, alpha=.5, cmap=\"Greys\")\n",
    "    plt.plot(thresholds, order_sizes, 'X', color=clr1) #, aggregate_measurements, 'o', color=clr1)\n",
    "    plt.colorbar()\n",
    "    plt.title('markout_profit')\n",
    "    \n",
    "    if parameter_opt is not None:\n",
    "        threshold_opt = parameter_opt[0]\n",
    "        order_size_opt = parameter_opt[1]\n",
    "        plt.plot(threshold_opt, order_size_opt, 'o', color=clr1, markersize=20, fillstyle='none')\n",
    "    \n",
    "    plt.xlabel('threshold')\n",
    "    plt.ylabel('order size')"
   ]
  },
  {
   "cell_type": "code",
   "execution_count": null,
   "metadata": {},
   "outputs": [],
   "source": [
    "_plot_interpolation(parameters, aggregate_measurements, beta)\n",
    "save_fig(18)\n",
    "plt.show()"
   ]
  },
  {
   "cell_type": "code",
   "execution_count": null,
   "metadata": {},
   "outputs": [],
   "source": [
    "def optimize_2D(parameters, beta):\n",
    "    x0hat, x1hat, yhat = interpolate_2D(parameters, beta)\n",
    "    i = np.where(yhat==yhat.max())\n",
    "    return x0hat[i][0], x1hat[i][0], yhat[i][0]"
   ]
  },
  {
   "cell_type": "code",
   "execution_count": null,
   "metadata": {},
   "outputs": [],
   "source": [
    "beta = linear_regression_2D(parameters, aggregate_measurements)\n",
    "threshold_opt, order_size_opt, estimated_max_profit = optimize_2D(parameters, beta)\n",
    "print (threshold_opt, order_size_opt, estimated_max_profit)"
   ]
  },
  {
   "cell_type": "code",
   "execution_count": null,
   "metadata": {},
   "outputs": [],
   "source": [
    "parameters = design_ccd(thresholds=[.5,  1,  1.5], order_sizes=[2.5, 3, 3.5])\n",
    "np.random.seed(17)\n",
    "aggregate_measurements, standard_errors = run_experiment_2D(15000, parameters)\n",
    "aggregate_measurements_prev, standard_errors_prev = aggregate_measurements, standard_errors\n",
    "\n",
    "_plot_aggregate_measurements(parameters, aggregate_measurements, standard_errors)\n",
    "axis_prev = plt.axis()\n",
    "save_fig(19)"
   ]
  },
  {
   "cell_type": "code",
   "execution_count": null,
   "metadata": {},
   "outputs": [],
   "source": [
    "parameters = design_ccd(thresholds=[.75,  1, 1.25], order_sizes=[2.75, 3, 3.25])\n",
    "np.random.seed(17)\n",
    "aggregate_measurements, standard_errors = run_experiment_2D(15000, parameters)\n",
    "\n",
    "_plot_aggregate_measurements(parameters, aggregate_measurements, standard_errors)\n",
    "c = plt.axis()\n",
    "plt.axis([c[0], c[1], axis_prev[2], axis_prev[3]])\n",
    "save_fig(20)"
   ]
  },
  {
   "cell_type": "code",
   "execution_count": null,
   "metadata": {},
   "outputs": [],
   "source": [
    "beta = linear_regression_2D(parameters, aggregate_measurements)\n",
    "threshold_opt, order_size_opt, estimated_max_profit = optimize_2D(parameters, beta)\n",
    "print (threshold_opt, order_size_opt, estimated_max_profit)\n",
    "\n",
    "ax = _plot_interpolation(parameters, aggregate_measurements, beta, (threshold_opt, order_size_opt))\n",
    "save_fig(21)\n",
    "plt.show()"
   ]
  },
  {
   "cell_type": "markdown",
   "metadata": {},
   "source": [
    "#### VALIDATE THE INTERPOLATION ESTIMATE"
   ]
  },
  {
   "cell_type": "code",
   "execution_count": null,
   "metadata": {},
   "outputs": [],
   "source": [
    "np.random.seed(17)\n",
    "aggregate_measurement, standard_error = run_experiment_2D(\n",
    "    num_individual_measurements=15000,\n",
    "    parameters=[(threshold_opt, order_size_opt)]\n",
    ")"
   ]
  },
  {
   "cell_type": "code",
   "execution_count": null,
   "metadata": {},
   "outputs": [],
   "source": [
    "print (aggregate_measurement, standard_error)\n",
    "print(aggregate_measurement[0] - 2*standard_error[0], aggregate_measurement[0] + 2*standard_error[0])"
   ]
  },
  {
   "cell_type": "code",
   "execution_count": null,
   "metadata": {},
   "outputs": [],
   "source": []
  }
 ],
 "metadata": {
  "language_info": {
   "name": "python",
   "pygments_lexer": "ipython3"
  }
 },
 "nbformat": 4,
 "nbformat_minor": 2
}
