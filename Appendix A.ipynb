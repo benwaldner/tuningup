{
 "cells": [
  {
   "cell_type": "markdown",
   "metadata": {},
   "source": [
    "# Appendix A\n",
    "# Linear regression and the normal equation"
   ]
  },
  {
   "cell_type": "code",
   "execution_count": null,
   "metadata": {},
   "outputs": [],
   "source": [
    "import random\n",
    "import numpy as np\n",
    "import scipy\n",
    "import scipy.stats\n",
    "import matplotlib as mpl\n",
    "import matplotlib.pyplot as plt"
   ]
  },
  {
   "cell_type": "code",
   "execution_count": null,
   "metadata": {},
   "outputs": [],
   "source": [
    "mpl.rcParams['figure.dpi']= 300\n",
    "\n",
    "clr1 = \"#333333\"\n",
    "clr2 = \"#777777\"\n",
    "clr3 = \"#AAAAAA\"\n",
    "clr4 = \"#DDDDDD\"\n",
    "clrs = [clr1, clr2, clr3, clr4]\n",
    "arrow_props = {'width':1, 'color': clr1,\n",
    "                'headwidth': 5, 'headlength': 7}\n",
    "font_size_2d = 7\n",
    "chapter = \"b\"\n",
    "\n",
    "try:\n",
    "    int(chapter)\n",
    "    ch = f\"{chapter:02d}\"\n",
    "    Chapter = f\"Chapter {chapter}\"\n",
    "except:\n",
    "    ch = chapter.upper()\n",
    "    Chapter = f\"Appendix {chapter}\"\n",
    "\n",
    "    \n",
    "fig_dir = f\"/Users/dsweet2/Desktop/Tuning Up/{Chapter}/\"\n",
    "def save_fig_named(name):\n",
    "    plt.tight_layout()\n",
    "    for ext in [\"eps\", \"png\"]:\n",
    "        plt.savefig(f\"{fig_dir}/CH{ch}_{name}_sweet.{ext}\")\n",
    "        \n",
    "def save_fig(fig_num):\n",
    "    save_fig_named(f\"F{fig_num:02d}\")"
   ]
  },
  {
   "cell_type": "code",
   "execution_count": null,
   "metadata": {},
   "outputs": [],
   "source": [
    "def horizontal_line(y0):\n",
    "    c = plt.axis()\n",
    "    plt.autoscale(False)\n",
    "    plt.plot([c[0], c[1]], [y0, y0], '--', linewidth=1, color=clr3);"
   ]
  },
  {
   "cell_type": "code",
   "execution_count": null,
   "metadata": {},
   "outputs": [],
   "source": [
    "# univariate\n",
    "x = np.array([1, 2, 3, 4])\n",
    "y = np.array([.5, 1.1, 1.4, 2.1])\n",
    "beta = (x*y).sum() / (x**2).sum()\n",
    "print (beta)\n",
    "beta = (x@y) / (x@x)\n",
    "print (beta)"
   ]
  },
  {
   "cell_type": "code",
   "execution_count": null,
   "metadata": {},
   "outputs": [],
   "source": [
    "# multivariate\n",
    "x = np.array([1, 2, 3, 4])\n",
    "X = np.array([\n",
    "  [1, x[0], x[0]**2],\n",
    "  [1, x[1], x[1]**2],\n",
    "  [1, x[2], x[2]**2],\n",
    "  [1, x[3], x[3]**2]\n",
    "])\n",
    "y = np.array([.5, 1.1, 1.4, 1])\n",
    "beta = np.linalg.inv(X.T @ X) @ (X.T @ y)\n",
    "print (beta)\n",
    "# plt.plot(x,y ,'o--');"
   ]
  },
  {
   "cell_type": "code",
   "execution_count": null,
   "metadata": {},
   "outputs": [],
   "source": []
  }
 ],
 "metadata": {
  "language_info": {
   "name": "python",
   "pygments_lexer": "ipython3"
  }
 },
 "nbformat": 4,
 "nbformat_minor": 2
}
