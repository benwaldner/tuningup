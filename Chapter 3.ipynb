{
 "cells": [
  {
   "cell_type": "markdown",
   "metadata": {},
   "source": [
    "# Chapter 3:\n",
    "# Multi-Armed Bandits: Evaluate multiple system changes while maximizing business metrics"
   ]
  },
  {
   "cell_type": "code",
   "execution_count": null,
   "metadata": {},
   "outputs": [],
   "source": [
    "import numpy as np\n",
    "import scipy\n",
    "import scipy.stats\n",
    "import matplotlib as mpl\n",
    "import matplotlib.pyplot as plt"
   ]
  },
  {
   "cell_type": "code",
   "execution_count": null,
   "metadata": {},
   "outputs": [],
   "source": [
    "mpl.rcParams['figure.dpi']= 300\n",
    "\n",
    "clr1 = \"#333333\"\n",
    "clr2 = \"#777777\"\n",
    "clr3 = \"#AAAAAA\"\n",
    "clr4 = \"#DDDDDD\"\n",
    "clrs = [clr1, clr2, clr3, clr4]\n",
    "arrow_props = {'width':1, 'color': clr1,\n",
    "                'headwidth': 5, 'headlength': 7}\n",
    "\n",
    "def save_fig(fig_num):\n",
    "    ch_n = 3\n",
    "    plt.tight_layout()\n",
    "    fig_dir = \"/Users/dsweet2/Desktop/Tuning Up/Chapter {ch_n}/\"\n",
    "    for ext in [\"eps\", \"png\"]:\n",
    "        plt.savefig(f\"{fig_dir}/CH{ch_n:02d}_F{fig_num:02d}_sweet.{ext}\")"
   ]
  },
  {
   "cell_type": "code",
   "execution_count": null,
   "metadata": {},
   "outputs": [],
   "source": [
    "def horizonal_line(y0):\n",
    "    c = plt.axis()\n",
    "    plt.autoscale(False)\n",
    "    plt.plot([c[0], c[1]], [y0, y0], '--', linewidth=1, color=clr3);"
   ]
  },
  {
   "cell_type": "markdown",
   "metadata": {},
   "source": [
    "## 3.1\tEpsilon-greedy: Account for the impact of evaluation on business metrics"
   ]
  },
  {
   "cell_type": "markdown",
   "metadata": {},
   "source": [
    "### 3.1.1\tA/B testing as a baseline"
   ]
  },
  {
   "cell_type": "code",
   "execution_count": null,
   "metadata": {},
   "outputs": [],
   "source": [
    "def measure_click(ctr):\n",
    "    return 1 if np.random.uniform(0,1) < ctr else 0\n",
    "\n",
    "def measure_A():\n",
    "    return measure_click(ctr=.005)\n",
    "\n",
    "def measure_B():\n",
    "    return measure_click(ctr=.007)"
   ]
  },
  {
   "cell_type": "code",
   "execution_count": null,
   "metadata": {},
   "outputs": [],
   "source": [
    "def design_ab_test():\n",
    "    def pilot_study(num_pilot_measurements):\n",
    "        clicked_pre_A = np.array([measure_A() for _ in range(num_pilot_measurements)])\n",
    "        clicked_pre_B = np.array([measure_B() for _ in range(num_pilot_measurements)])\n",
    "        SD1 = np.sqrt( clicked_pre_A.std()**2 + clicked_pre_B.std()**2 )  \n",
    "        return SD1\n",
    "    \n",
    "    SD1 = pilot_study(1000)\n",
    "    PS = .001    \n",
    "    N = (2.8 * SD1 / PS) ** 2\n",
    "    return int(N)\n",
    "  \n",
    "def run_ab_test(N):\n",
    "    clicked_A = []\n",
    "    clicked_B = []\n",
    "    for n in range(2*N):\n",
    "        # Randomize between A and B.\n",
    "        if np.random.uniform(0,1) < .5:\n",
    "            clicked = measure_A()\n",
    "            clicked_A.append(clicked)\n",
    "        else:\n",
    "            clicked = measure_B()\n",
    "            clicked_B.append(clicked)\n",
    "\n",
    "    clicked_A = np.array(clicked_A)\n",
    "    clicked_B = np.array(clicked_B)\n",
    "    \n",
    "    return clicked_A, clicked_B\n",
    "    \n",
    "def analyze_a_b_test(clicked_A, clicked_B):   \n",
    "    mean_A = clicked_A.mean()\n",
    "    mean_B = clicked_B.mean()\n",
    "    std_A = clicked_A.std()\n",
    "    std_B = clicked_B.std()\n",
    "    m = mean_B - mean_A\n",
    "    SE = np.sqrt( (std_A**2 + std_B**2) / N )\n",
    "    t_stat = np.abs(m / SE)\n",
    "    \n",
    "    return t_stat"
   ]
  },
  {
   "cell_type": "code",
   "execution_count": null,
   "metadata": {},
   "outputs": [],
   "source": [
    "np.random.seed(17)\n",
    "N = design_ab_test()\n",
    "clicked_A, clicked_B = run_ab_test(N)\n",
    "t_stat = analyze_a_b_test(clicked_A, clicked_B)\n",
    "print (N, t_stat)"
   ]
  },
  {
   "cell_type": "code",
   "execution_count": null,
   "metadata": {},
   "outputs": [],
   "source": [
    "def ab_test(N):\n",
    "    sum_clicks = 0.0\n",
    "    num_ads = 0.0\n",
    "    sum_A = 0.0\n",
    "    num_A = 0\n",
    "    sum_B = 0.0\n",
    "    num_B = 0\n",
    "\n",
    "    ctr_vs_n = []\n",
    "    ctr_A = []\n",
    "    ctr_B = []\n",
    "    for n in range(2*N):\n",
    "        if np.random.uniform(0,1) < .5:\n",
    "            clicked = measure_A()\n",
    "            sum_A += clicked\n",
    "            num_A += 1\n",
    "        else:\n",
    "            clicked = measure_B()\n",
    "            sum_B += clicked\n",
    "            num_B += 1\n",
    "        sum_clicks += clicked\n",
    "        num_ads += 1\n",
    "        if num_A > 0 and num_B > 0:\n",
    "            ctr_A.append(sum_A/num_A)\n",
    "            ctr_B.append(sum_B/num_B)\n",
    "            ctr_vs_n.append(sum_clicks/num_ads)            \n",
    "    \n",
    "    return ctr_vs_n, ctr_A, ctr_B"
   ]
  },
  {
   "cell_type": "code",
   "execution_count": null,
   "metadata": {},
   "outputs": [],
   "source": [
    "np.random.seed(17)\n",
    "ctr_vs_n, ctr_A, ctr_B  = ab_test(N)\n",
    "print (ctr_vs_n[-1], ctr_A[-1], ctr_B[-1])"
   ]
  },
  {
   "cell_type": "code",
   "execution_count": null,
   "metadata": {},
   "outputs": [],
   "source": [
    "plt.plot(ctr_vs_n, '--', color=clr1);\n",
    "plt.xlabel('n, index to individual measurement')\n",
    "plt.ylabel('CTR up through n');\n",
    "save_fig(3)"
   ]
  },
  {
   "cell_type": "code",
   "execution_count": null,
   "metadata": {},
   "outputs": [],
   "source": [
    "def run_multi(trace_fn, num=100):\n",
    "    traces = []\n",
    "    n = 1e99\n",
    "    for _ in range(num):\n",
    "        trace = trace_fn()\n",
    "        n = min(n, len(trace))\n",
    "        traces.append(trace)\n",
    "\n",
    "    traces_aligned = []\n",
    "    for t in traces:\n",
    "        traces_aligned.append(t[-n:])\n",
    "    traces = np.array(traces_aligned)\n",
    "\n",
    "    means = traces.mean(axis=0)\n",
    "    stds = traces.std(axis=0)\n",
    "    \n",
    "    return means, stds"
   ]
  },
  {
   "cell_type": "code",
   "execution_count": null,
   "metadata": {},
   "outputs": [],
   "source": [
    "np.random.seed(17)\n",
    "means_ab, stds_ab = run_multi(lambda: ab_test(N)[0], 100)\n",
    "print (means_ab[-1], stds_ab[-1])"
   ]
  },
  {
   "cell_type": "code",
   "execution_count": null,
   "metadata": {},
   "outputs": [],
   "source": [
    "n = np.arange(len(means_ab))[::100]\n",
    "plt.fill_between(n,\n",
    "                 (means_ab-stds_ab/2)[::100],\n",
    "                 (means_ab+stds_ab/2)[::100],\n",
    "                 color=clr3, alpha=.75, linewidth=1)\n",
    "\n",
    "plt.plot(n, means_ab[::100], '-', color=clr1)\n",
    "c = plt.axis()\n",
    "plt.xlabel('n, index to individual measurement')\n",
    "plt.ylabel('CTR up through n');\n",
    "plt.axis([c[0], c[1], .0040, .0080]);\n",
    "\n",
    "save_fig(4)"
   ]
  },
  {
   "cell_type": "code",
   "execution_count": null,
   "metadata": {},
   "outputs": [],
   "source": []
  },
  {
   "cell_type": "code",
   "execution_count": null,
   "metadata": {},
   "outputs": [],
   "source": [
    "plt.plot(ctr_A, '-', color=clr1);\n",
    "plt.plot(ctr_B, '--', color=clr2);\n",
    "print (ctr_A[-1], ctr_B[-1])\n",
    "plt.xlabel('n, index to individual measurement')\n",
    "plt.ylabel('CTR up through n');\n",
    "plt.legend(['CTR A', 'CTR B'])\n",
    "plt.annotate(\"CTR A > CTR B\", xy=[10000, .0080],\n",
    "             xytext=[50000, .015],\n",
    "             arrowprops=arrow_props\n",
    "            )\n",
    "plt.annotate(\"CTR A < CTR B\", xy=[170000, .0070],\n",
    "             xytext=[80000, .010],\n",
    "             arrowprops=arrow_props\n",
    "            )\n",
    "save_fig(5)"
   ]
  },
  {
   "cell_type": "markdown",
   "metadata": {},
   "source": [
    "### 3.1.2\tThe epsilon-greedy algorithm"
   ]
  },
  {
   "cell_type": "code",
   "execution_count": null,
   "metadata": {},
   "outputs": [],
   "source": [
    "def epsilon_greedy(N, epsilon):\n",
    "    sum_clicks = 0.0\n",
    "    num_ads = 0.0\n",
    "    sum_A = 0.0\n",
    "    num_A = 0\n",
    "    sum_B = 0.0\n",
    "    num_B = 0\n",
    "    ctr_vs_n = []\n",
    "    used_B = []\n",
    "    for _ in range(int(2*N)):\n",
    "        select = \"Randomize\"\n",
    "        if np.random.uniform(0,1) < 1-epsilon:\n",
    "            ctr_A = sum_A/num_A if num_A>0 else 0\n",
    "            ctr_B = sum_B/num_B if num_B>0 else 0\n",
    "            if ctr_A > ctr_B:\n",
    "                select = \"A\"\n",
    "            elif ctr_B > ctr_A:\n",
    "                select = \"B\"\n",
    "            # else, if they're equal, randomize\n",
    "            \n",
    "        if select == \"Randomize\":\n",
    "            if np.random.uniform(0,1) < .5:\n",
    "                select = \"A\"\n",
    "            else:\n",
    "                select = \"B\"\n",
    "                \n",
    "        if select == \"A\":\n",
    "            clicked = measure_A()\n",
    "            sum_A += clicked\n",
    "            num_A += 1\n",
    "            used_B.append(False)\n",
    "        else:\n",
    "            clicked = measure_B()\n",
    "            sum_B += clicked\n",
    "            num_B += 1\n",
    "            used_B.append(True)\n",
    "        sum_clicks += clicked\n",
    "        num_ads += 1\n",
    "        \n",
    "        ctr_vs_n.append(sum_clicks / num_ads)\n",
    "    \n",
    "    return ctr_vs_n, used_B"
   ]
  },
  {
   "cell_type": "code",
   "execution_count": null,
   "metadata": {},
   "outputs": [],
   "source": [
    "np.random.seed(17)\n",
    "ctr_eps_greedy = epsilon_greedy(N=N, epsilon=0.1)[0]\n",
    "print (ctr_eps_greedy[-1])"
   ]
  },
  {
   "cell_type": "code",
   "execution_count": null,
   "metadata": {},
   "outputs": [],
   "source": [
    "plt.plot(ctr_vs_n, '-', color=clr1);\n",
    "plt.plot(ctr_eps_greedy, '--', color=clr2);\n",
    "plt.xlabel('n, index to individual measurement')\n",
    "plt.ylabel('CTR up through n');\n",
    "plt.legend(['A/B test', 'epsilon-greedy'])\n",
    "save_fig(7)"
   ]
  },
  {
   "cell_type": "code",
   "execution_count": null,
   "metadata": {},
   "outputs": [],
   "source": [
    "np.random.seed(17)\n",
    "means_eg, stds_eg = run_multi(lambda: epsilon_greedy(N, .1)[0], 100)\n",
    "print (means_eg[-1], stds_eg[-1])"
   ]
  },
  {
   "cell_type": "code",
   "execution_count": null,
   "metadata": {},
   "outputs": [],
   "source": [
    "means_eg_tr = means_eg[-len(means_ab):]\n",
    "stds_eg_tr = stds_eg[-len(stds_ab):]\n",
    "n = np.arange(len(means_ab))[::100]\n",
    "\n",
    "plt.fill_between(n,\n",
    "                 (means_ab-stds_ab/2)[::100],\n",
    "                 (means_ab+stds_ab/2)[::100],\n",
    "                 color=clr3, alpha=.75, linewidth=1)\n",
    "plt.plot(n, means_ab[::100], '--', color=clr1)\n",
    "\n",
    "plt.fill_between(n,\n",
    "                 (means_eg_tr-stds_eg_tr/2)[::100],\n",
    "                 (means_eg_tr+stds_eg_tr/2)[::100],\n",
    "                 color=clr2, alpha=.75, linewidth=1)\n",
    "plt.plot(n, means_eg_tr[::100], '-', color=clr2)\n",
    "\n",
    "\n",
    "\n",
    "c = plt.axis()\n",
    "plt.xlabel('n, index to individual measurement')\n",
    "plt.ylabel('CTR up through n');\n",
    "plt.legend(['A/B test','epsilon-greedy'])\n",
    "plt.axis([c[0], c[1], .0040, .0080]);\n",
    "save_fig(8)"
   ]
  },
  {
   "cell_type": "code",
   "execution_count": null,
   "metadata": {},
   "outputs": [],
   "source": [
    "def run_multi_selection_rates(selected_fn, num=100):\n",
    "    selected = []\n",
    "    for _ in range(num):\n",
    "        selected.append(selected_fn())\n",
    "\n",
    "    selected = np.array(selected)\n",
    "    indices = np.unique(selected)\n",
    "    rate_selected = []\n",
    "    for i in indices:\n",
    "        chis = selected==i\n",
    "        rate_selected.append(chis.mean(axis=0))\n",
    "    rate_selected = np.array(rate_selected)\n",
    "    \n",
    "    return indices, rate_selected"
   ]
  },
  {
   "cell_type": "code",
   "execution_count": null,
   "metadata": {},
   "outputs": [],
   "source": [
    "indices, rate_selected = run_multi_selection_rates(lambda: epsilon_greedy(N, .1)[-1], 100)\n",
    "print (indices)"
   ]
  },
  {
   "cell_type": "code",
   "execution_count": null,
   "metadata": {},
   "outputs": [],
   "source": [
    "n = np.arange(rate_selected.shape[1])\n",
    "plt.plot(n[::10], 100*rate_selected[0,:][::10], '.', color=clr2);\n",
    "plt.plot(n[::10], 100*rate_selected[1,:][::10], '.', color=clr3);\n",
    "plt.legend(['A selected', 'B selected'], markerscale=3)\n",
    "plt.ylabel('Percentage of runs')\n",
    "plt.xlabel('n, index to individual measurement')\n",
    "save_fig(9)"
   ]
  },
  {
   "cell_type": "markdown",
   "metadata": {},
   "source": [
    "### 3.1.3\tDeciding when to stop"
   ]
  },
  {
   "cell_type": "code",
   "execution_count": null,
   "metadata": {},
   "outputs": [],
   "source": [
    "np.random.seed(17)\n",
    "EPSILON = [.001, .003, .01, .03, .1, .3, 1]\n",
    "final = []\n",
    "for epsilon in EPSILON:\n",
    "    data = []\n",
    "    for _ in range(100):\n",
    "        ctr_eps_greedy = epsilon_greedy(N=N, epsilon=epsilon)[0]\n",
    "        data.append(ctr_eps_greedy[-1])\n",
    "    data = np.array(data)\n",
    "    final.append( (data.mean(), data.std()) )\n",
    "\n",
    "final = np.array(final)"
   ]
  },
  {
   "cell_type": "code",
   "execution_count": null,
   "metadata": {},
   "outputs": [],
   "source": [
    "mean = final[:,0]\n",
    "std = final[:,1]\n",
    "\n",
    "plt.errorbar(EPSILON, mean, yerr=std,\n",
    "            linewidth=1, color=clr1);\n",
    "plt.fill_between(EPSILON,\n",
    "                 mean-std/2,\n",
    "                 mean+std/2,\n",
    "                 color=clr3, alpha=.75, linewidth=1)\n",
    "\n",
    "\n",
    "plt.xscale('log')\n",
    "plt.xlabel('epsilon')\n",
    "plt.ylabel('CTR')\n",
    "# plt.legend(['epsilon-greedy'], #, 'A/B testing'],\n",
    "#             loc='upper right')\n",
    "\n",
    "save_fig(10)"
   ]
  },
  {
   "cell_type": "code",
   "execution_count": null,
   "metadata": {},
   "outputs": [],
   "source": [
    "def epsilon_greedy_decay():\n",
    "    BM_max = .01\n",
    "    PS = .001\n",
    "    c = 5\n",
    "    \n",
    "    epsilon0 = 2*c*(BM_max/PS)**2\n",
    "    epsilon_stop = .01\n",
    "    \n",
    "    sum_clicks = 0.0\n",
    "    num_ads = 0.0\n",
    "    sum_A = 0.0\n",
    "    num_A = 0\n",
    "    sum_B = 0.0\n",
    "    num_B = 0\n",
    "    ctr_vs_n = []\n",
    "    epsilons = []\n",
    "    \n",
    "    n = 0\n",
    "    selected = None\n",
    "    while True:\n",
    "        epsilon = min(1.0, epsilon0 / (1.0 + n))\n",
    "        epsilons.append(epsilon)\n",
    "        if epsilon < epsilon_stop:\n",
    "            break\n",
    "        select = \"Randomize\"\n",
    "        if np.random.uniform(0,1) < 1-epsilon:\n",
    "            ctr_A = sum_A/num_A if num_A>0 else 0\n",
    "            ctr_B = sum_B/num_B if num_B>0 else 0\n",
    "            if ctr_A > ctr_B:\n",
    "                select = \"A\"\n",
    "                selected = \"A\"\n",
    "            elif ctr_B > ctr_A:\n",
    "                select = \"B\"\n",
    "                selected = \"B\"\n",
    "            # else, if they're equal, randomize\n",
    "            \n",
    "        if select == \"Randomize\":\n",
    "            if np.random.uniform(0,1) < .5:\n",
    "                select = \"A\"\n",
    "            else:\n",
    "                select = \"B\"\n",
    "                \n",
    "        if select == \"A\":\n",
    "            clicked = measure_A()\n",
    "            sum_A += clicked\n",
    "            num_A += 1\n",
    "        else:\n",
    "            clicked = measure_B()\n",
    "            sum_B += clicked\n",
    "            num_B += 1\n",
    "        sum_clicks += clicked\n",
    "        num_ads += 1\n",
    "        \n",
    "        ctr_vs_n.append(sum_clicks / num_ads)\n",
    "        n += 1\n",
    "\n",
    "    if selected == \"B\":\n",
    "        accept_reject = \"Accept\"\n",
    "    else:\n",
    "        accept_reject = \"Reject\"\n",
    "    return ctr_vs_n, epsilons, accept_reject"
   ]
  },
  {
   "cell_type": "code",
   "execution_count": null,
   "metadata": {},
   "outputs": [],
   "source": [
    "np.random.seed(17)\n",
    "ctr_eps_greedy_decay, epsilons, accept_reject = epsilon_greedy_decay()\n",
    "print (len(ctr_eps_greedy_decay), ctr_eps_greedy_decay[-1], accept_reject)"
   ]
  },
  {
   "cell_type": "code",
   "execution_count": null,
   "metadata": {},
   "outputs": [],
   "source": [
    "plt.semilogy(epsilons, '--', color=clr1);\n",
    "plt.xlabel('n, index to individual measurement')\n",
    "plt.ylabel('epsilon used at n');\n",
    "horizonal_line(.01)\n",
    "save_fig(11)\n",
    "epsilons[-1]"
   ]
  },
  {
   "cell_type": "markdown",
   "metadata": {},
   "source": [
    "#### FALSE POSITIVES, FALSE NEGATIVES"
   ]
  },
  {
   "cell_type": "markdown",
   "metadata": {},
   "source": [
    "## 3.2\tEvaluate multiple system changes simultaneously"
   ]
  },
  {
   "cell_type": "code",
   "execution_count": null,
   "metadata": {},
   "outputs": [],
   "source": [
    "def run_multi_ragged(trace_fn, num=100):\n",
    "    finals = []\n",
    "    for _ in range(num):\n",
    "        trace = trace_fn()\n",
    "        finals.append(trace[-1])\n",
    "    finals = np.array(finals)\n",
    "    mean = finals.mean()\n",
    "    std = finals.std()\n",
    "    \n",
    "    return mean, std"
   ]
  },
  {
   "cell_type": "code",
   "execution_count": null,
   "metadata": {},
   "outputs": [],
   "source": [
    "np.random.seed(17)\n",
    "mean_selected, std_selected = run_multi_ragged(lambda: [int(epsilon_greedy_decay()[-1] == \"Accept\")], 100)\n",
    "print (mean_selected, std_selected)"
   ]
  },
  {
   "cell_type": "code",
   "execution_count": null,
   "metadata": {},
   "outputs": [],
   "source": []
  },
  {
   "cell_type": "code",
   "execution_count": null,
   "metadata": {},
   "outputs": [],
   "source": [
    "def epsilon_greedy_decay_compare(N):\n",
    "    # Run for N measurements ignoring epsilon_stop\n",
    "    \n",
    "    BM_max = .01\n",
    "    PS = .001\n",
    "    \n",
    "    epsilon0 = 2*5*(BM_max/PS)**2\n",
    "    \n",
    "    sum_clicks = 0.0\n",
    "    num_ads = 0.0\n",
    "    sum_A = 0.0\n",
    "    num_A = 0\n",
    "    sum_B = 0.0\n",
    "    num_B = 0\n",
    "    ctr_vs_n = []\n",
    "    epsilons = []\n",
    "    \n",
    "    selected = None\n",
    "    for n in range(2*N):\n",
    "        epsilon = min(1.0, epsilon0 / (1.0 + n))\n",
    "        epsilons.append(epsilon)\n",
    "        select = \"Randomize\"\n",
    "        if np.random.uniform(0,1) < 1-epsilon:\n",
    "            ctr_A = sum_A/num_A if num_A>0 else 0\n",
    "            ctr_B = sum_B/num_B if num_B>0 else 0\n",
    "            if ctr_A > ctr_B:\n",
    "                select = \"A\"\n",
    "                selected = \"A\"\n",
    "            elif ctr_B > ctr_A:\n",
    "                select = \"B\"\n",
    "                selected = \"B\"\n",
    "            \n",
    "            # else, if they're equal, randomize\n",
    "            \n",
    "        if select == \"Randomize\":\n",
    "            if np.random.uniform(0,1) < .5:\n",
    "                select = \"A\"\n",
    "            else:\n",
    "                select = \"B\"\n",
    "                \n",
    "        if select == \"A\":\n",
    "            clicked = measure_A()\n",
    "            sum_A += clicked\n",
    "            num_A += 1\n",
    "        else:\n",
    "            clicked = measure_B()\n",
    "            sum_B += clicked\n",
    "            num_B += 1\n",
    "        sum_clicks += clicked\n",
    "        num_ads += 1\n",
    "        \n",
    "        ctr_vs_n.append(sum_clicks / num_ads)\n",
    "\n",
    "    if selected == \"B\":\n",
    "        accept_reject = \"Accept\"\n",
    "    else:\n",
    "        accept_reject = \"Reject\"\n",
    "    return ctr_vs_n, epsilons, accept_reject"
   ]
  },
  {
   "cell_type": "code",
   "execution_count": null,
   "metadata": {},
   "outputs": [],
   "source": [
    "np.random.seed(17)\n",
    "means_eg_dc, stds_eg_dc = run_multi(lambda: epsilon_greedy_decay_compare(N)[0], 100)\n",
    "print (means_eg_dc[-1], stds_eg_dc[-1])"
   ]
  },
  {
   "cell_type": "code",
   "execution_count": null,
   "metadata": {},
   "outputs": [],
   "source": [
    "np.random.seed(17)\n",
    "mean_selected, std_selected = run_multi(lambda: [int(epsilon_greedy_decay_compare(N)[-1]==\"Accept\")], 100)\n",
    "print (mean_selected, std_selected)"
   ]
  },
  {
   "cell_type": "markdown",
   "metadata": {},
   "source": [
    "## 3.2\tEvaluate multiple system changes simultaneously"
   ]
  },
  {
   "cell_type": "code",
   "execution_count": null,
   "metadata": {},
   "outputs": [],
   "source": [
    "def measure_arm(i_arm):\n",
    "    return measure_click(ctr=.005 + i_arm*.002)"
   ]
  },
  {
   "cell_type": "code",
   "execution_count": null,
   "metadata": {},
   "outputs": [],
   "source": [
    "def epsilon_greedy_decay_multi():\n",
    "    BM_max = .01\n",
    "    PS = .001\n",
    "    K = 4\n",
    "    c = 5\n",
    "    \n",
    "    epsilon0 = K*c*(BM_max/PS)**2\n",
    "    epsilon_stop = .01\n",
    "    \n",
    "    sum_clicks = 0.0\n",
    "    num_ads = 0.0\n",
    "    sum_arm = [0.0]*K\n",
    "    num_arm = [0.0]*K\n",
    "    ctr_vs_n = []\n",
    "    \n",
    "    n = 0\n",
    "    arms_selected = []\n",
    "    while True:\n",
    "        epsilon = min(1.0, epsilon0 / (1.0 + n))\n",
    "        if epsilon < epsilon_stop:\n",
    "            break\n",
    "        i_selected = None\n",
    "        if np.random.uniform(0,1) < 1-epsilon:\n",
    "            max_ctr = None\n",
    "            for i in range(K):\n",
    "                if num_arm[i] > 0:\n",
    "                    ctr_arm = sum_arm[i] / num_arm[i]\n",
    "                else:\n",
    "                    ctr_arm = 0\n",
    "                # break ties by randomizing\n",
    "                ctr_arm += 1e-9 * np.random.normal()\n",
    "                if max_ctr is None or ctr_arm > max_ctr:\n",
    "                    max_ctr = ctr_arm\n",
    "                    i_selected = i\n",
    "            i_best_arm = i_selected\n",
    "        else:\n",
    "            i_selected = np.random.randint(K)\n",
    "                \n",
    "        arms_selected.append(i_selected)\n",
    "        clicked = measure_arm(i_selected)\n",
    "        sum_arm[i_selected] += clicked \n",
    "        num_arm[i_selected] += 1\n",
    "        sum_clicks += clicked\n",
    "        num_ads += 1\n",
    "        \n",
    "        ctr_vs_n.append(sum_clicks / num_ads)\n",
    "        n += 1\n",
    "\n",
    "    return ctr_vs_n, arms_selected"
   ]
  },
  {
   "cell_type": "code",
   "execution_count": null,
   "metadata": {},
   "outputs": [],
   "source": [
    "np.random.seed(17)\n",
    "ctr_epsilon_greedy_decay_multi, arms_selected = epsilon_greedy_decay_multi()\n",
    "print (len(ctr_epsilon_greedy_decay_multi), ctr_epsilon_greedy_decay_multi[-1], arms_selected[-1])"
   ]
  },
  {
   "cell_type": "code",
   "execution_count": null,
   "metadata": {},
   "outputs": [],
   "source": [
    "np.random.seed(17)\n",
    "mean_egd, std_egd  = run_multi(lambda: epsilon_greedy_decay_multi()[0], 100)\n",
    "print (mean_egd[-1], std_egd[-1])"
   ]
  },
  {
   "cell_type": "code",
   "execution_count": null,
   "metadata": {},
   "outputs": [],
   "source": [
    "np.random.seed(17)\n",
    "mean_selected, std_selected = run_multi(lambda: [int(epsilon_greedy_decay_multi()[-1][-1] == 3)], 100)\n",
    "print (mean_selected, std_selected)"
   ]
  },
  {
   "cell_type": "code",
   "execution_count": null,
   "metadata": {},
   "outputs": [],
   "source": [
    "plt.plot(ctr_epsilon_greedy_decay_multi, '--', color=clr1);\n",
    "plt.xlabel('n, index to individual measurement')\n",
    "plt.ylabel('CTR up through n');\n",
    "save_fig(13)"
   ]
  },
  {
   "cell_type": "code",
   "execution_count": null,
   "metadata": {},
   "outputs": [],
   "source": [
    "indices_multi, rate_selected_multi = run_multi_selection_rates(lambda: epsilon_greedy_decay_multi()[-1], 100)\n",
    "print (indices)"
   ]
  },
  {
   "cell_type": "code",
   "execution_count": null,
   "metadata": {},
   "outputs": [],
   "source": [
    "n = np.arange(rate_selected_multi.shape[1])[::10]\n",
    "legend = []\n",
    "for i in range(4):\n",
    "    plt.plot(n, 100*rate_selected_multi[i,::10], '.', color=clrs[i]);\n",
    "    legend.append(f'Arm {i} selected')\n",
    "plt.legend(legend, markerscale=3)\n",
    "plt.ylabel('Percentage of runs')\n",
    "plt.xlabel('n, index to individual measurement')\n",
    "\n",
    "save_fig(14)"
   ]
  },
  {
   "cell_type": "markdown",
   "metadata": {},
   "source": [
    "## 3.3 Thompson Sampling: A more efficient bandit algorithm"
   ]
  },
  {
   "cell_type": "markdown",
   "metadata": {},
   "source": [
    "### 3.3.1\tEstimating the probability that an arm is the best"
   ]
  },
  {
   "cell_type": "code",
   "execution_count": null,
   "metadata": {},
   "outputs": [],
   "source": [
    "I_clicked = np.array([0,0,1,0,1,1,0,0,1,0])"
   ]
  },
  {
   "cell_type": "code",
   "execution_count": null,
   "metadata": {},
   "outputs": [],
   "source": [
    "CTR = I_clicked.mean()\n",
    "print (CTR)"
   ]
  },
  {
   "cell_type": "code",
   "execution_count": null,
   "metadata": {},
   "outputs": [],
   "source": [
    "SE = I_clicked.std() / np.sqrt(len(I_clicked))\n",
    "print (SE)"
   ]
  },
  {
   "cell_type": "code",
   "execution_count": null,
   "metadata": {},
   "outputs": [],
   "source": [
    "def bootstrap_sample(data):\n",
    "    n = len(data)\n",
    "    return np.asarray(data)[np.random.randint(n, size=(n,))]"
   ]
  },
  {
   "cell_type": "code",
   "execution_count": null,
   "metadata": {},
   "outputs": [],
   "source": [
    "np.random.seed(17)\n",
    "print (bootstrap_sample(I_clicked))\n",
    "print (bootstrap_sample(I_clicked))\n",
    "print (bootstrap_sample(I_clicked))"
   ]
  },
  {
   "cell_type": "code",
   "execution_count": null,
   "metadata": {},
   "outputs": [],
   "source": [
    "def replicate_means(data, num_replications):\n",
    "    means = []\n",
    "    for _ in range(num_replications):\n",
    "        means.append(bootstrap_sample(data).mean())\n",
    "    return np.array(means)"
   ]
  },
  {
   "cell_type": "code",
   "execution_count": null,
   "metadata": {},
   "outputs": [],
   "source": [
    "np.random.seed(17)\n",
    "CTRs = replicate_means(I_clicked, 1000)\n",
    "print (CTRs.mean())\n",
    "print (CTRs.std())"
   ]
  },
  {
   "cell_type": "code",
   "execution_count": null,
   "metadata": {},
   "outputs": [],
   "source": []
  },
  {
   "cell_type": "code",
   "execution_count": null,
   "metadata": {},
   "outputs": [],
   "source": [
    "np.random.seed(17)\n",
    "plt.hist(replicate_means(I_clicked, 1000), 25, color=clr1);\n",
    "plt.xlabel('CTR')\n",
    "save_fig(15)"
   ]
  },
  {
   "cell_type": "markdown",
   "metadata": {},
   "source": [
    "#### WORKING WITH FEW INDIVIDUAL MEASUREMENTS"
   ]
  },
  {
   "cell_type": "code",
   "execution_count": null,
   "metadata": {},
   "outputs": [],
   "source": [
    "np.random.seed(17)\n",
    "fig, axs = plt.subplots(2, 2)\n",
    "i_axs = [(0,0), (0,1), (1,0), (1,1)]\n",
    "letters = [\"a\", \"b\", \"c\", \"d\"]\n",
    "num_measurements = 10\n",
    "for i, i_ax in enumerate(i_axs):\n",
    "    ax = axs[i_ax]\n",
    "    ax.hist(replicate_means(np.random.binomial(n=1, p=.4, size=(int(num_measurements+.5),)), 10000), 25, color=clr1);\n",
    "    for label in ax.get_xticklabels():\n",
    "        label.set_fontsize(7)\n",
    "    \n",
    "    locs = ax.get_yticks()\n",
    "    ax.set_yticklabels([\"\"]*len(locs))\n",
    "    num_measurements *= 10\n",
    "    c = ax.axis()\n",
    "    ax.text(.1*c[0] + .90*c[1], .1*c[2] + .9*c[3], f\"({letters[i]})\", fontsize=7)\n",
    "\n",
    "save_fig(16)"
   ]
  },
  {
   "cell_type": "markdown",
   "metadata": {},
   "source": [
    "#### PROBABILITY OF BEING THE BEST ARM"
   ]
  },
  {
   "cell_type": "code",
   "execution_count": null,
   "metadata": {},
   "outputs": [],
   "source": [
    "np.random.seed(17)\n",
    "I_clicked_1 = np.array([measure_click(ctr=.005) for _ in range(10000)])\n",
    "I_clicked_2 = np.array([measure_click(ctr=.007) for _ in range(10000)])"
   ]
  },
  {
   "cell_type": "code",
   "execution_count": null,
   "metadata": {},
   "outputs": [],
   "source": [
    "print (I_clicked_1.mean())\n",
    "print (I_clicked_2.mean())"
   ]
  },
  {
   "cell_type": "code",
   "execution_count": null,
   "metadata": {},
   "outputs": [],
   "source": [
    "plt.hist(replicate_means(I_clicked_1, 1000), 10, color=clr1, alpha=.75)\n",
    "plt.hist(replicate_means(I_clicked_2, 1000), 10, color=clr2, alpha=.75);\n",
    "plt.legend(['Arm 1', 'Arm 2'])\n",
    "plt.xlabel('CTR')\n",
    "save_fig(17)"
   ]
  },
  {
   "cell_type": "code",
   "execution_count": null,
   "metadata": {},
   "outputs": [],
   "source": [
    "def estimate_pbetter(I_clicked_1, I_clicked_2):\n",
    "    counts = [0, 0]\n",
    "    num_samples = 100\n",
    "    for _ in range(num_samples):\n",
    "        ctr_1 = bootstrap_sample(I_clicked_1).mean()\n",
    "        ctr_2 = bootstrap_sample(I_clicked_2).mean()\n",
    "        if ctr_1 > ctr_2:\n",
    "            counts[0] += 1\n",
    "        elif ctr_2 > ctr_1:\n",
    "            counts[1] += 1\n",
    "            \n",
    "    p_better = np.array(counts)/num_samples\n",
    "    return p_better"
   ]
  },
  {
   "cell_type": "code",
   "execution_count": null,
   "metadata": {},
   "outputs": [],
   "source": [
    "np.random.seed(17)\n",
    "estimate_pbetter(I_clicked_1, I_clicked_2)"
   ]
  },
  {
   "cell_type": "code",
   "execution_count": null,
   "metadata": {},
   "outputs": [],
   "source": [
    "def estimate_pbest(I_clickeds):\n",
    "    counts = [0] * len(I_clickeds)\n",
    "    num_samples = 100\n",
    "    for _ in range(num_samples):\n",
    "        ctrs = [bootstrap_sample(I_clicked).mean() for I_clicked in I_clickeds]\n",
    "        ctrs = np.array(ctrs)\n",
    "        i = np.where(ctrs == ctrs.max())[0]\n",
    "        if len(i)==1:\n",
    "            counts[i[0]] += 1\n",
    "            \n",
    "    return np.array(counts)/num_samples"
   ]
  },
  {
   "cell_type": "code",
   "execution_count": null,
   "metadata": {},
   "outputs": [],
   "source": [
    "np.random.seed(17)\n",
    "I_clickeds = [None]*4\n",
    "I_clickeds[0] = np.array([measure_click(ctr=.003) for _ in range(10000)])\n",
    "I_clickeds[1] = np.array([measure_click(ctr=.005) for _ in range(10000)])\n",
    "I_clickeds[2] = np.array([measure_click(ctr=.007) for _ in range(10000)])\n",
    "I_clickeds[3] = np.array([measure_click(ctr=.009) for _ in range(10000)])\n",
    "estimate_pbest(I_clickeds)"
   ]
  },
  {
   "cell_type": "markdown",
   "metadata": {},
   "source": [
    "### 3.3.2\tRandomized Probability Matching"
   ]
  },
  {
   "cell_type": "code",
   "execution_count": null,
   "metadata": {},
   "outputs": [],
   "source": [
    "def rpm_select_arm(I_clickeds):\n",
    "    ctrs = [bootstrap_sample(I_clicked).mean() for I_clicked in I_clickeds]\n",
    "    ctrs = np.array(ctrs)\n",
    "    i = np.where(ctrs == ctrs.max())[0]\n",
    "    if len(i)!=1:\n",
    "        return np.random.randint(len(I_clickeds))\n",
    "    return i[0]"
   ]
  },
  {
   "cell_type": "code",
   "execution_count": null,
   "metadata": {},
   "outputs": [],
   "source": [
    "rpm_select_arm(I_clickeds)"
   ]
  },
  {
   "cell_type": "markdown",
   "metadata": {},
   "source": [
    "#### ONLINE BOOTSTRAP"
   ]
  },
  {
   "cell_type": "code",
   "execution_count": null,
   "metadata": {},
   "outputs": [],
   "source": [
    "class OnlineBootstrap:\n",
    "    def __init__(self, num_bs_means):\n",
    "        self._sums = np.zeros(shape=(num_bs_means,))\n",
    "        self._n = np.zeros(shape=(num_bs_means,))\n",
    "        self._count = 0\n",
    "        \n",
    "    def append(self, clicked):\n",
    "        i = np.where(np.random.randint(2, size=(len(self._n,))) == 0)[0]\n",
    "        self._sums[i] += clicked\n",
    "        self._n[i] += 1\n",
    "        self._count += 1\n",
    "\n",
    "    def CTR_estimate(self):\n",
    "        i = np.random.randint(len(self._n))\n",
    "        if self._n[i] == 0:\n",
    "            return np.inf\n",
    "        return self._sums[i] / self._n[i]\n",
    "    \n",
    "    def count(self):\n",
    "        return self._count"
   ]
  },
  {
   "cell_type": "code",
   "execution_count": null,
   "metadata": {},
   "outputs": [],
   "source": [
    "def rpm_select_arm_ob(obs):\n",
    "    ctrs = [ob.CTR_estimate() for ob in obs]\n",
    "    ctrs = np.array(ctrs)\n",
    "    i = np.where(ctrs == ctrs.max())[0]\n",
    "    return np.random.choice(i)"
   ]
  },
  {
   "cell_type": "code",
   "execution_count": null,
   "metadata": {},
   "outputs": [],
   "source": [
    "def estimate_pbest_ob(obs):\n",
    "    counts = [0] * len(obs)\n",
    "    num_samples = 100\n",
    "    for _ in range(num_samples):\n",
    "        ctrs = [ob.CTR_estimate() for ob in obs]\n",
    "        ctrs = np.array(ctrs)\n",
    "        i = np.where(ctrs == ctrs.max())[0]\n",
    "        if len(i)==1:\n",
    "            counts[i[0]] += 1\n",
    "            \n",
    "    return np.array(counts)/num_samples"
   ]
  },
  {
   "cell_type": "markdown",
   "metadata": {},
   "source": [
    "### 3.3.3\tThe complete algorithm"
   ]
  },
  {
   "cell_type": "code",
   "execution_count": null,
   "metadata": {},
   "outputs": [],
   "source": [
    "def thompson_sampling():\n",
    "    K = 4\n",
    "    num_bs_means = 100\n",
    "    p_stop = .95\n",
    "    smallest_sum_difference = 1\n",
    "    PS = .001\n",
    "\n",
    "    min_samples_per_arm = smallest_sum_difference / PS\n",
    "    \n",
    "    obs = [OnlineBootstrap(num_bs_means) for _ in range(K)]\n",
    "    sum_clicks = 0.0\n",
    "    num_ads = 0.0\n",
    "    ctr_vs_n = []\n",
    "\n",
    "    n = 0\n",
    "    while True:\n",
    "        num_samples_per_arm = [ob.count() for ob in obs]\n",
    "        i_too_few = np.where(np.array(num_samples_per_arm) < min_samples_per_arm)[0]\n",
    "        if len(i_too_few) > 0:\n",
    "            i_selected = np.random.choice(i_too_few)\n",
    "        else:\n",
    "            i_selected = rpm_select_arm_ob(obs)\n",
    "        i_clicked = measure_arm(i_selected)\n",
    "        obs[i_selected].append(i_clicked)\n",
    "        sum_clicks += i_clicked\n",
    "        num_ads += 1\n",
    "        ctr_vs_n.append(sum_clicks / num_ads)\n",
    "\n",
    "        n += 1\n",
    "        if len(i_too_few) == 0 and n % 100 == 0:\n",
    "            p_bests = estimate_pbest_ob(obs)\n",
    "            i_best_arm = np.where(p_bests == p_bests.max())[0]\n",
    "            if len(i_best_arm) == 1 and p_bests.max() >= p_stop:\n",
    "                break\n",
    "                \n",
    "    return ctr_vs_n, i_best_arm        \n",
    "    "
   ]
  },
  {
   "cell_type": "code",
   "execution_count": null,
   "metadata": {},
   "outputs": [],
   "source": [
    "np.random.seed(17)\n",
    "ctr_ts, i_best_arm = thompson_sampling()\n",
    "print (len(ctr_ts), ctr_ts[-1], i_best_arm)"
   ]
  },
  {
   "cell_type": "code",
   "execution_count": null,
   "metadata": {},
   "outputs": [],
   "source": [
    "np.random.seed(17)\n",
    "mean_selected, std_selected = run_multi(lambda: [thompson_sampling()[1]==3], 100)\n",
    "print (mean_selected, std_selected)"
   ]
  },
  {
   "cell_type": "code",
   "execution_count": null,
   "metadata": {},
   "outputs": [],
   "source": [
    "def run_multi_count(trace_fn, num=100):\n",
    "    nums = []\n",
    "    for _ in range(num):\n",
    "        trace = trace_fn()\n",
    "        nums.append(len(trace))\n",
    "\n",
    "    nums = np.array(nums)\n",
    "    \n",
    "    return nums.mean(), nums.max()"
   ]
  },
  {
   "cell_type": "code",
   "execution_count": null,
   "metadata": {},
   "outputs": [],
   "source": [
    "np.random.seed(17)\n",
    "nums_mean, nums_max = run_multi_count(lambda: thompson_sampling()[0], 100)\n",
    "print (nums_mean, nums_max)"
   ]
  },
  {
   "cell_type": "code",
   "execution_count": null,
   "metadata": {},
   "outputs": [],
   "source": [
    "def thompson_sampling_compare():\n",
    "    K = 4\n",
    "    num_bs_means = 100\n",
    "    p_stop = .95\n",
    "    smallest_sum_difference = 1\n",
    "    PS = .001\n",
    "\n",
    "    min_samples_per_arm = smallest_sum_difference / PS\n",
    "    \n",
    "    obs = [OnlineBootstrap(num_bs_means) for _ in range(K)]\n",
    "    sum_clicks = 0.0\n",
    "    num_ads = 0.0\n",
    "    ctr_vs_n = []\n",
    "\n",
    "    n = 0\n",
    "    accepted = False\n",
    "    for _ in range(200000):\n",
    "        if accepted:\n",
    "            i_selected = i_best_arm\n",
    "        else:\n",
    "            num_samples_per_arm = [ob.count() for ob in obs]\n",
    "            i_too_few = np.where(np.array(num_samples_per_arm) < min_samples_per_arm)[0]\n",
    "            if len(i_too_few) > 0:\n",
    "                i_selected = np.random.choice(i_too_few)\n",
    "            else:\n",
    "                i_selected = rpm_select_arm_ob(obs)\n",
    "                \n",
    "        i_clicked = measure_arm(i_selected)\n",
    "        obs[i_selected].append(i_clicked)\n",
    "        sum_clicks += i_clicked\n",
    "        num_ads += 1\n",
    "        ctr_vs_n.append(sum_clicks / num_ads)\n",
    "\n",
    "        n += 1\n",
    "        if not accepted and len(i_too_few) == 0 and n % 100 == 0:\n",
    "            p_bests = estimate_pbest_ob(obs)\n",
    "            i_best_arm = np.where(p_bests == p_bests.max())[0]\n",
    "            if len(i_best_arm) == 1 and p_bests.max() >= p_stop:\n",
    "                i_best_arm = i_best_arm[0]\n",
    "                accepted = True\n",
    "                \n",
    "    return ctr_vs_n, i_best_arm        \n",
    "    "
   ]
  },
  {
   "cell_type": "code",
   "execution_count": null,
   "metadata": {},
   "outputs": [],
   "source": [
    "np.random.seed(17)\n",
    "mean_ts_compare, std_ts_compare = run_multi(lambda: thompson_sampling_compare()[0], 100)\n",
    "print (mean_ts_compare[-1], std_ts_compare[-1])"
   ]
  },
  {
   "cell_type": "code",
   "execution_count": null,
   "metadata": {},
   "outputs": [],
   "source": [
    "mean_egd_tr = mean_egd\n",
    "std_egd_tr = std_egd\n",
    "\n",
    "means_ts_tr = mean_ts_compare\n",
    "stds_ts_tr = std_ts_compare\n",
    "\n",
    "n = np.arange(len(mean_egd_tr))[::100]\n",
    "\n",
    "plt.fill_between(n,\n",
    "                 (mean_egd_tr-std_egd_tr/2)[::100],\n",
    "                 (mean_egd_tr+std_egd_tr/2)[::100],\n",
    "                 color=clr2, alpha=.75, linewidth=1)\n",
    "plt.plot(n, mean_egd_tr[::100], '--', color=clr2)\n",
    "\n",
    "nts = np.arange(len(means_ts_tr))[::100]  # TODO\n",
    "plt.fill_between(nts,\n",
    "                 (means_ts_tr-stds_ts_tr/2)[::100],\n",
    "                 (means_ts_tr+stds_ts_tr/2)[::100],\n",
    "                 color=clr3, alpha=.75, linewidth=1)\n",
    "plt.plot(nts, means_ts_tr[::100], '-', color=clr1)\n",
    "\n",
    "c = plt.axis()\n",
    "plt.xlabel('n, index to individual measurement')\n",
    "plt.ylabel('CTR up through n');\n",
    "plt.legend(['epsilon-greedy', 'Thompson sampling'], loc='lower right')\n",
    "plt.axis([c[0], c[1], .007, .011]);\n",
    "\n",
    "save_fig(19)"
   ]
  },
  {
   "cell_type": "code",
   "execution_count": null,
   "metadata": {},
   "outputs": [],
   "source": []
  }
 ],
 "metadata": {
  "language_info": {
   "name": "python",
   "pygments_lexer": "ipython3"
  }
 },
 "nbformat": 4,
 "nbformat_minor": 2
}
