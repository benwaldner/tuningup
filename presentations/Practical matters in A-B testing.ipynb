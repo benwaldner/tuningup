{
 "cells": [
  {
   "cell_type": "markdown",
   "metadata": {},
   "source": [
    "# Practical matters in A/B testing\n",
    "Selected material from:  \n",
    "[*Tuning up: From A/B testing to Bayesian Optimization*](manning.com/books/tuning-up-from-a-b-testing-to-bayesian-optimization)  \n",
    "Manning Publications,  2021 (summer, estimated)\n",
    "\n",
    "\n",
    "\n",
    "David Sweet  \n",
    "[linkedin.com/in/dsweet99/](http://linkedin.com/in/dsweet99/)  \n",
    "[@phinance99](http://twitter.com/phinance99)  "
   ]
  },
  {
   "cell_type": "markdown",
   "metadata": {},
   "source": [
    "[<img src=\"images/Sweet-TUp-HI.jpeg\" style=\"border:1px solid black;width:400px\">](https://www.manning.com/books/tuning-up-from-a-b-testing-to-bayesian-optimization)"
   ]
  },
  {
   "cell_type": "markdown",
   "metadata": {},
   "source": [
    "# Audience  \n",
    "\n",
    "- ML/AI engineers\n",
    "- Quantiative traders, \"quants\"\n",
    "- Software engineers\n",
    "\n"
   ]
  },
  {
   "cell_type": "markdown",
   "metadata": {},
   "source": [
    "# A/B Test\n",
    "\n",
    "- A: The current system\n",
    "- B: A good idea, meant to improve the system\n",
    "- Test: An experiment"
   ]
  },
  {
   "cell_type": "markdown",
   "metadata": {},
   "source": [
    "- systems: trading, ads, social media, streaming songs\n",
    "- compare A to B; measure the difference\n",
    "- in production; ex., live trading, live website, live ads\n",
    "- won't talk (today) about the details of how to design or analyze an A/B test; read my book\n",
    "- multiple methods taught in book, focus on A/B testing here\n"
   ]
  },
  {
   "cell_type": "markdown",
   "metadata": {},
   "source": [
    "# Good ideas aren't that good\n",
    "\n",
    "- How many experiments improve metrics?\n",
    "    - Amazon: 50%\n",
    "    - Microsoft: 33.3%\n",
    "    - Netflix: 10%\n"
   ]
  },
  {
   "cell_type": "markdown",
   "metadata": {},
   "source": [
    "- key point; why A/B at all\n",
    "- 1/10 \"air of resignation\"\n",
    "- all experiments run on good ideas from smart people at top companies who know their products\n",
    "- not domain knowledge or simulations or R^2 or cross-entropy <== complementary to A/B testing"
   ]
  },
  {
   "cell_type": "markdown",
   "metadata": {},
   "source": [
    "# Engineer's workflow\n",
    "<img src=\"images/CH01_F01_sweet.png\" style=\"width:1000px\">"
   ]
  },
  {
   "cell_type": "markdown",
   "metadata": {},
   "source": [
    "- ...so every new idea gets tested; measure some business metric online / live / in prod\n",
    "- "
   ]
  },
  {
   "cell_type": "markdown",
   "metadata": {},
   "source": [
    "# A/B test basics\n",
    "- Randomization\n",
    "- Replication\n",
    "- Limit false positives (5%) and false negatives (20%)\n",
    "    - ex: one A/B test every two weeks for a year, 33.3% accepted, <1 f.p., ~2 f.n."
   ]
  },
  {
   "cell_type": "code",
   "execution_count": null,
   "metadata": {},
   "outputs": [],
   "source": [
    "print ((52/2) * .333 * .05)\n",
    "print ((52/2) * .333 * .20)"
   ]
  },
  {
   "cell_type": "markdown",
   "metadata": {},
   "source": [
    "- randomize to avoid biasing results; ex: don't want to try B only in one region, or only on a certain demongraphic, or only at a certain time of day; want to try it a little bit everywhere; inc. accuracy / dec. bias\n",
    "- replication ex: show new way (B) to many users or use B on many trades; inc. precision / dec. variation\n",
    "\n",
    "\n",
    "- 33.3%, like MSFT\n",
    "- fp: making system worse; explicit cost\n",
    "- fn: missing opportunity to make better; opportunity cost"
   ]
  },
  {
   "cell_type": "markdown",
   "metadata": {},
   "source": [
    "# Holdout test\n",
    "\n",
    "- Many A/B tests over 6 months\n",
    "- Holdout\n",
    "    - A: System at start of 6 months\n",
    "    - B: System at end of 6 months\n",
    "- Net improvement < sum of individual improvments\n",
    "    - 5% f.p, nonstationarity\n",
    "  "
   ]
  },
  {
   "cell_type": "markdown",
   "metadata": {},
   "source": [
    "- keep some small sample (ex., of users) on old system\n",
    "- measures net improvement of all A/B-tested changes\n"
   ]
  },
  {
   "cell_type": "markdown",
   "metadata": {},
   "source": [
    "# Business Metric\n",
    "\n",
    "- Immediate reward\n",
    "    - Click-through rate\n",
    "    - Markout profit\n",
    "    - Engagement: like, retweet, comment, skip song, etc.\n",
    "- Daily aggregates\n",
    "    - Revenue, pnl, trading volume\n",
    "    - Time spent on app, number of songs streamed\n",
    "    - Active users\n",
    "- Long-term\n",
    "    - Monthly active users\n",
    "    - Pnl/trade with multi-day hold time\n",
    "    - Will an ad view lead to a purchase later?\n",
    "    - User activity over next D days"
   ]
  },
  {
   "cell_type": "markdown",
   "metadata": {},
   "source": [
    "- daily aggregates a sweet spot for A/B testing b/c\n",
    "    - can't handle with contextual bandit, like immediate reward\n",
    "    - still short enough (in time) to run an A/B test, unlike long-term"
   ]
  },
  {
   "cell_type": "markdown",
   "metadata": {},
   "source": [
    "# Multiple business metrics\n",
    "\n",
    "- Don't usually care about just one\n",
    "- Maybe trade off: more revenue, less time spent\n",
    "- Maybe \"guardrail\": higher CTR, but only if revenue and engagement don't drop\n"
   ]
  },
  {
   "cell_type": "markdown",
   "metadata": {},
   "source": [
    "# Deciding to accept or reject\n",
    "\n",
    "- Acceptance / rejection a group discussion\n",
    "- Higher stakes ==> larger discussion\n",
    "- Sanity check surprising/dramatic results\n",
    "    - Could there be an error in the experiment?\n",
    "    - Did you learn something new? Dig deeper to understand\n",
    "- Carefully weigh tradeoffs of multiple metrics"
   ]
  },
  {
   "cell_type": "markdown",
   "metadata": {},
   "source": [
    "- possibly also discuss across teams\n",
    "- use soft skills\n",
    "- earlier engagement reduces communication problems later on"
   ]
  },
  {
   "cell_type": "markdown",
   "metadata": {},
   "source": [
    "# Running an A/B test\n",
    "\n",
    "- Risks\n",
    "    - deploying bugs\n",
    "    - reducing business metrics\n",
    "    - wasting time\n"
   ]
  },
  {
   "cell_type": "markdown",
   "metadata": {},
   "source": [
    "# Running an A/B test\n",
    "\n",
    "<img src=\"images/CH02_F20_sweet.png\" style=\"width:1000px\">\n",
    "\n",
    "- A/A test, small: Does experimentation alon code change metrics?\n",
    "- A/B test, small: Does new code have bugs or dramatically change metrics?\n",
    "- A/B test, large: The full experiment"
   ]
  },
  {
   "cell_type": "markdown",
   "metadata": {},
   "source": [
    "# Early stopping\n",
    "<img src=\"images/CH02_F22_sweet.png\" style=\"width:600px\">\n",
    "- Idea: \"To save time, if t-stat crosses threshold, I'll stop\"  **NO**\n",
    "- Can generate false positives"
   ]
  },
  {
   "cell_type": "markdown",
   "metadata": {},
   "source": [
    "- This is no not \"early stopping\" when fitting an NN or boosted trees.\n"
   ]
  },
  {
   "cell_type": "markdown",
   "metadata": {},
   "source": [
    "# Early stopping\n",
    "\n",
    "<img src=\"images/CH02_F23_sweet.png\" style=\"width:600px\">\n",
    "\n",
    "- False positive rate can be *very* high\n",
    "- Much higher than 5%, for which A/B test is (usually) designed"
   ]
  },
  {
   "cell_type": "markdown",
   "metadata": {},
   "source": [
    "# p - hacking\n",
    "\n",
    "- \"cherry-picking\"\n",
    "- 5% f.p. is 1/20\n",
    "- p-Hack: Run an experiment 20 times\n",
    "- p-Hack: Run an experiment and examine 20 metrics\n"
   ]
  },
  {
   "cell_type": "markdown",
   "metadata": {},
   "source": [
    "- maybe run slightly different experiments until you get statistical significance in one of them\n",
    "- in practice metrics correlated, so look at more than 20\n"
   ]
  },
  {
   "cell_type": "markdown",
   "metadata": {},
   "source": [
    "# Transient effects\n",
    "\n",
    "- Short-lived, goes away\n",
    "- Ex: Users engage with your new feature b/c it's novel, then abandon it\n",
    "- Fix: Drop first K samples or days of data"
   ]
  },
  {
   "cell_type": "markdown",
   "metadata": {},
   "source": [
    "- learn K for your system by running many different experiments"
   ]
  },
  {
   "cell_type": "markdown",
   "metadata": {},
   "source": [
    "[<img src=\"images/Sweet-TUp-HI.jpeg\" style=\"border:1px solid black;width:200px\">](https://www.manning.com/books/tuning-up-from-a-b-testing-to-bayesian-optimization)\n",
    "\n",
    "[*Tuning up: From A/B testing to Bayesian Optimization*](manning.com/books/tuning-up-from-a-b-testing-to-bayesian-optimization)  \n",
    "Manning Publications,  2021 (summer, estimated)\n",
    "\n",
    "\n",
    "\n",
    "David Sweet  \n",
    "[linkedin.com/in/dsweet99/](http://linkedin.com/in/dsweet99/)  \n",
    "[@phinance99](http://twitter.com/phinance99)  "
   ]
  },
  {
   "cell_type": "markdown",
   "metadata": {},
   "source": [
    "## To view slides\n",
    "    - jupyter nbconvert Practical\\ matters\\ in\\ A-B\\ testing.ipynb --to slides --post serve\n"
   ]
  },
  {
   "cell_type": "code",
   "execution_count": null,
   "metadata": {},
   "outputs": [],
   "source": []
  }
 ],
 "metadata": {
  "language_info": {
   "name": "python",
   "pygments_lexer": "ipython3"
  }
 },
 "nbformat": 4,
 "nbformat_minor": 2
}
